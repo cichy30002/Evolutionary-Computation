{
 "cells": [
  {
   "cell_type": "code",
   "execution_count": 1,
   "metadata": {},
   "outputs": [],
   "source": [
    "from TSPGraph import Graph\n",
    "import numpy as np\n",
    "from functools import lru_cache\n",
    "import copy\n",
    "from tqdm import tqdm\n",
    "from multiprocessing import Pool"
   ]
  },
  {
   "cell_type": "code",
   "execution_count": 2,
   "metadata": {},
   "outputs": [],
   "source": [
    "graph = Graph('A')"
   ]
  },
  {
   "cell_type": "code",
   "execution_count": 3,
   "metadata": {},
   "outputs": [],
   "source": [
    "def random_solution():\n",
    "    sol = np.random.choice(np.arange(200),size=100,replace=False)\n",
    "    return np.append(sol,sol[0])"
   ]
  },
  {
   "cell_type": "code",
   "execution_count": 4,
   "metadata": {},
   "outputs": [],
   "source": [
    "combination_pairs = [(x,y) for x in range(1,100) for y in range(x+2, 100)]\n",
    "combination_pairs_edges = [(x,y) for x in range(1,100) for y in range(x+2, 100)]"
   ]
  },
  {
   "cell_type": "code",
   "execution_count": 5,
   "metadata": {},
   "outputs": [
    {
     "data": {
      "text/plain": [
       "(-9073, (30, 43))"
      ]
     },
     "execution_count": 5,
     "metadata": {},
     "output_type": "execute_result"
    }
   ],
   "source": [
    "def ExchangeVertices(solution, i, j):\n",
    "    result = copy.deepcopy(solution)\n",
    "    result[[i,j]] = result[[j,i]]\n",
    "    return result\n",
    "\n",
    "def ExchangeVerticesDelta(graph, solution, i, j):\n",
    "    res = (graph.dist_matrix[solution[i-1], solution[j]] + graph.dist_matrix[solution[j], solution[i+1]] + graph.dist_matrix[solution[j-1], solution[i]] + graph.dist_matrix[solution[i], solution[j+1]]) - (graph.dist_matrix[solution[i-1], solution[i]] + graph.dist_matrix[solution[i], solution[i+1]] + graph.dist_matrix[solution[j-1], solution[j]] + graph.dist_matrix[solution[j], solution[j+1]])\n",
    "    # check = graph.cycle_cost(ExchangeVertices(solution,i,j)) - graph.cycle_cost(solution)\n",
    "    # print(res)\n",
    "    # print(check)\n",
    "    # print(solution)\n",
    "    # print(ExchangeVertices(solution,i,j))\n",
    "    # assert check == res\n",
    "    return res\n",
    "\n",
    "def MinInAllExchangedVertices(graph, solution):\n",
    "    minDelta = 0\n",
    "    resultExchange = tuple()\n",
    "    for x in combination_pairs:\n",
    "        delta = ExchangeVerticesDelta(graph, solution, x[0], x[1])\n",
    "        if delta < minDelta:\n",
    "            minDelta = delta\n",
    "            resultExchange = (x[0], x[1])\n",
    "    return (minDelta, resultExchange)\n",
    "\n",
    "def GreedyExchangeVertex(graph, solution):\n",
    "    for x in combination_pairs:\n",
    "        delta = ExchangeVerticesDelta(graph, solution, x[0], x[1])\n",
    "        if delta < 0:\n",
    "            return (x[0], x[1])\n",
    "    return None\n",
    "\n",
    "\n",
    "MinInAllExchangedVertices(graph, random_solution())\n",
    "# ExchangeVerticesDelta(graph, random_solution(), 1, 5)"
   ]
  },
  {
   "cell_type": "code",
   "execution_count": 6,
   "metadata": {},
   "outputs": [
    {
     "data": {
      "text/plain": [
       "(-5377, (34, 78))"
      ]
     },
     "execution_count": 6,
     "metadata": {},
     "output_type": "execute_result"
    }
   ],
   "source": [
    "def ExchangeEdges(solution, i, j):\n",
    "    assert i<j\n",
    "    result = copy.deepcopy(solution)\n",
    "    # print(i,j)\n",
    "    # print(result[:i])\n",
    "    # print(result[j:i-1:-1])\n",
    "    # print(result[j+1:])\n",
    "    result = np.concatenate((result[:i], result[j:i-1:-1], result[j+1:]))\n",
    "    return result\n",
    "\n",
    "def ExchangeEdgesDelta(graph, solution, i, j):\n",
    "    assert i<j\n",
    "    res = (graph.dist_matrix[solution[i-1], solution[j]] + graph.dist_matrix[solution[i], solution[j+1]]) - (graph.dist_matrix[solution[i-1], solution[i]] + graph.dist_matrix[solution[j], solution[j+1]])\n",
    "    # check = graph.cycle_cost(ExchangeEdges(solution,i,j)) - graph.cycle_cost(solution)\n",
    "    # print(res)\n",
    "    # print(check)\n",
    "    # print(solution)\n",
    "    # print(ExchangeEdges(solution,i,j))\n",
    "    # assert res == check\n",
    "    return res\n",
    "\n",
    "def MinInAllExchangedEdges(graph, solution):\n",
    "    minDelta = 0\n",
    "    resultExchange = tuple()\n",
    "    for x in combination_pairs_edges:\n",
    "        delta = ExchangeEdgesDelta(graph, solution, x[0], x[1])\n",
    "        if delta < minDelta:\n",
    "            minDelta = delta\n",
    "            resultExchange = (x[0], x[1])\n",
    "    return (minDelta, resultExchange)\n",
    "\n",
    "def GreedyExchangeEdges(graph, solution):\n",
    "    for x in combination_pairs_edges:\n",
    "        delta = ExchangeEdgesDelta(graph, solution, x[0], x[1])\n",
    "        if delta < 0:\n",
    "            return (x[0], x[1])\n",
    "    return None\n",
    "\n",
    "MinInAllExchangedEdges(graph, random_solution())"
   ]
  },
  {
   "cell_type": "code",
   "execution_count": 7,
   "metadata": {},
   "outputs": [
    {
     "name": "stdout",
     "output_type": "stream",
     "text": [
      "(-7446, (34, 185))\n"
     ]
    }
   ],
   "source": [
    "\n",
    "def SwapVertexWithNewOne(solution, i, a):\n",
    "    result = copy.deepcopy(solution)\n",
    "    result[i] = a\n",
    "    return result\n",
    "\n",
    "def SwapVertexWithNewOneDelta(graph, solution, i, a):\n",
    "    return (graph.objective[solution[i-1], a] + graph.objective[a, solution[i+1]]) - (graph.objective[solution[i-1], solution[i]] + graph.objective[solution[i], solution[i+1]])\n",
    "\n",
    "def MinInAllSwaps(solution, graph):\n",
    "    domain = np.array(range(200))\n",
    "    not_in_sol = domain[np.isin(domain, solution, invert=True)]\n",
    "    #pairs of index in current cycle - node \n",
    "    pairs = np.transpose([np.tile(domain[:100], 100), np.repeat(not_in_sol, 100)])\n",
    "    minDelta = 0\n",
    "    resultSwap = tuple()\n",
    "    for x in pairs:\n",
    "        delta = SwapVertexWithNewOneDelta(graph, solution, x[0], x[1])\n",
    "        if delta < minDelta:\n",
    "            minDelta = delta\n",
    "            resultSwap = (x[0], x[1])\n",
    "    return (minDelta, resultSwap)\n",
    "\n",
    "def GreedySwap(solution, graph):\n",
    "    domain = np.array(range(200))\n",
    "    not_in_sol = domain[np.isin(domain, solution, invert=True)]\n",
    "    #pairs of index in current cycle - node \n",
    "    pairs = np.transpose([np.tile(domain[:100], 100), np.repeat(not_in_sol, 100)])\n",
    "    for x in pairs:\n",
    "        delta = SwapVertexWithNewOneDelta(graph, solution, x[0], x[1])\n",
    "        if delta < 0:\n",
    "            return (x[0], x[1])\n",
    "    return None\n",
    "print(MinInAllSwaps(random_solution(), graph))"
   ]
  },
  {
   "cell_type": "code",
   "execution_count": 8,
   "metadata": {},
   "outputs": [
    {
     "data": {
      "text/plain": [
       "77654"
      ]
     },
     "execution_count": 8,
     "metadata": {},
     "output_type": "execute_result"
    }
   ],
   "source": [
    "def SteepestLocalSearch(graph, initial_solution, type):\n",
    "    current_solution = initial_solution\n",
    "    current_cost = graph.cycle_cost(current_solution)\n",
    "    max_iter = 1_000_000\n",
    "    while(max_iter > 0):\n",
    "        # print(current_cost)\n",
    "        best_swap_val, best_swap = MinInAllSwaps(current_solution, graph)\n",
    "        if type == 'edge':\n",
    "            best_exchange_val, best_exchange = MinInAllExchangedEdges(graph, current_solution)\n",
    "        else:\n",
    "            best_exchange_val, best_exchange = MinInAllExchangedVertices(graph, current_solution)\n",
    "        \n",
    "        if best_swap_val >= 0 and best_exchange_val >= 0:\n",
    "            break\n",
    "\n",
    "        if best_swap_val < best_exchange_val:\n",
    "            current_solution = SwapVertexWithNewOne(current_solution, best_swap[0], best_swap[1])\n",
    "            # print('swap' + str(best_swap_val))\n",
    "        elif type == 'edge':\n",
    "            current_solution = ExchangeEdges(current_solution, best_exchange[0], best_exchange[1])\n",
    "            # print('exchange ' + str(best_exchange_val) + str(best_exchange))\n",
    "        else:\n",
    "            current_solution = ExchangeVertices(current_solution, best_exchange[0], best_exchange[1])\n",
    "            # print('exchange ' + str(best_exchange_val) + str(best_exchange))\n",
    "\n",
    "        max_iter -= 1\n",
    "        # current_cost = graph.cycle_cost(current_solution)\n",
    "    return graph.cycle_cost(current_solution)\n",
    "        \n",
    "SteepestLocalSearch(graph, random_solution(), 'edge')"
   ]
  },
  {
   "cell_type": "code",
   "execution_count": 9,
   "metadata": {},
   "outputs": [
    {
     "name": "stderr",
     "output_type": "stream",
     "text": [
      "c:\\Users\\Kuba\\AppData\\Local\\Programs\\Python\\Python39\\lib\\site-packages\\numpy\\core\\_asarray.py:83: VisibleDeprecationWarning: Creating an ndarray from ragged nested sequences (which is a list-or-tuple of lists-or-tuples-or ndarrays with different lengths or shapes) is deprecated. If you meant to do this, you must specify 'dtype=object' when creating the ndarray\n",
      "  return array(a, dtype, copy=False, order=order)\n"
     ]
    },
    {
     "data": {
      "text/plain": [
       "126865"
      ]
     },
     "execution_count": 9,
     "metadata": {},
     "output_type": "execute_result"
    }
   ],
   "source": [
    "def GreedyLocalSearch(graph, initial_solution, type):\n",
    "    current_solution = initial_solution\n",
    "    current_cost = graph.cycle_cost(current_solution)\n",
    "    max_iter = 1_000_000\n",
    "    while(max_iter > 0):\n",
    "        # print(current_cost)\n",
    "        max_iter -= 1\n",
    "\n",
    "        swap = GreedySwap(current_solution, graph)\n",
    "        if swap is not None:\n",
    "            current_solution = SwapVertexWithNewOne(current_solution, swap[0], swap[1])\n",
    "            continue\n",
    "        if type == 'edge':\n",
    "            exchange = GreedyExchangeEdges(graph, current_solution)\n",
    "            if exchange is not None:\n",
    "                current_solution = ExchangeEdges(current_solution, exchange[0], exchange[1])\n",
    "                continue\n",
    "        else:\n",
    "            exchange = GreedyExchangeVertex(graph, current_solution)\n",
    "            if exchange is not None:\n",
    "                current_solution = ExchangeVertices(current_solution, exchange[0], exchange[1])\n",
    "                continue\n",
    "        break\n",
    "\n",
    "        \n",
    "        # current_cost = graph.cycle_cost(current_solution)\n",
    "    return graph.cycle_cost(current_solution)\n",
    "        \n",
    "GreedyLocalSearch(graph, random_solution(), 'edge')"
   ]
  },
  {
   "cell_type": "code",
   "execution_count": 15,
   "metadata": {},
   "outputs": [],
   "source": [
    "random_solutions = [random_solution() for i in range(200)]\n",
    "previous_solutions_D = np.load('Data/WeightedRegretResults/d_weighted_regret_all.npy')\n",
    "previous_solutions_C = np.load('Data/WeightedRegretResults/c_weighted_regret_all.npy')\n",
    "previous_solutions_B = np.load('Data/WeightedRegretResults/b_weighted_regret_all.npy')\n",
    "previous_solutions_A = np.load('Data/WeightedRegretResults/a_weighted_regret_all.npy')"
   ]
  },
  {
   "cell_type": "code",
   "execution_count": 11,
   "metadata": {},
   "outputs": [],
   "source": [
    "def SteepestExperiment(graph, init_solutions, type):\n",
    "    steep_random_edge = []\n",
    "    for i in tqdm(range(200)):\n",
    "        steep_random_edge.append(SteepestLocalSearch(graph, init_solutions[i], type))\n",
    "    return np.array(steep_random_edge)"
   ]
  },
  {
   "cell_type": "code",
   "execution_count": 12,
   "metadata": {},
   "outputs": [],
   "source": [
    "def GreedyExperiment(graph, init_solutions, type):\n",
    "    steep_random_vertex = []\n",
    "    for i in tqdm(range(200)):\n",
    "        steep_random_vertex.append(GreedyLocalSearch(graph, init_solutions[i], type))\n",
    "    return np.array(steep_random_vertex)"
   ]
  },
  {
   "cell_type": "code",
   "execution_count": 13,
   "metadata": {},
   "outputs": [],
   "source": [
    "def printResults(x):\n",
    "    print(\"min: {} max: {} avg: {}\".format(np.min(x), np.max(x), np.mean(x)))"
   ]
  },
  {
   "cell_type": "code",
   "execution_count": 14,
   "metadata": {},
   "outputs": [
    {
     "name": "stderr",
     "output_type": "stream",
     "text": [
      "  0%|          | 0/200 [00:00<?, ?it/s]"
     ]
    },
    {
     "name": "stderr",
     "output_type": "stream",
     "text": [
      "100%|██████████| 200/200 [09:57<00:00,  2.99s/it]\n"
     ]
    },
    {
     "name": "stdout",
     "output_type": "stream",
     "text": [
      "greedy random edge\n",
      "min: 45869 max: 77418 avg: 66306.375\n"
     ]
    },
    {
     "name": "stderr",
     "output_type": "stream",
     "text": [
      "100%|██████████| 200/200 [08:44<00:00,  2.62s/it]\n"
     ]
    },
    {
     "name": "stdout",
     "output_type": "stream",
     "text": [
      "greedy random vertex\n",
      "min: 54568 max: 100416 avg: 81553.35\n"
     ]
    },
    {
     "name": "stderr",
     "output_type": "stream",
     "text": [
      "100%|██████████| 200/200 [01:01<00:00,  3.25it/s]\n"
     ]
    },
    {
     "name": "stdout",
     "output_type": "stream",
     "text": [
      "greedy previous edge\n",
      "min: 46670 max: 55001 avg: 51607.575\n"
     ]
    },
    {
     "name": "stderr",
     "output_type": "stream",
     "text": [
      "100%|██████████| 200/200 [00:44<00:00,  4.48it/s]\n"
     ]
    },
    {
     "name": "stdout",
     "output_type": "stream",
     "text": [
      "greedy previous vertex\n",
      "min: 46670 max: 55166 avg: 51797.85\n"
     ]
    },
    {
     "name": "stderr",
     "output_type": "stream",
     "text": [
      "100%|██████████| 200/200 [17:58<00:00,  5.39s/it]\n"
     ]
    },
    {
     "name": "stdout",
     "output_type": "stream",
     "text": [
      "steepest random edge\n",
      "min: 46851 max: 64956 avg: 50400.885\n"
     ]
    },
    {
     "name": "stderr",
     "output_type": "stream",
     "text": [
      "100%|██████████| 200/200 [25:56<00:00,  7.78s/it]\n"
     ]
    },
    {
     "name": "stdout",
     "output_type": "stream",
     "text": [
      "steepest random vertex\n",
      "min: 59343 max: 83020 avg: 67301.335\n"
     ]
    },
    {
     "name": "stderr",
     "output_type": "stream",
     "text": [
      "100%|██████████| 200/200 [01:09<00:00,  2.88it/s]\n"
     ]
    },
    {
     "name": "stdout",
     "output_type": "stream",
     "text": [
      "steepest previous edge\n",
      "min: 46670 max: 54971 avg: 51683.78\n"
     ]
    },
    {
     "name": "stderr",
     "output_type": "stream",
     "text": [
      "100%|██████████| 200/200 [01:00<00:00,  3.29it/s]"
     ]
    },
    {
     "name": "stdout",
     "output_type": "stream",
     "text": [
      "steepest previous vertex\n",
      "min: 46670 max: 55136 avg: 51874.05\n"
     ]
    },
    {
     "name": "stderr",
     "output_type": "stream",
     "text": [
      "\n"
     ]
    }
   ],
   "source": [
    "res = GreedyExperiment(Graph('D'), random_solutions, 'edge')\n",
    "print('greedy random edge')\n",
    "printResults(res)\n",
    "res = GreedyExperiment(Graph('D'), random_solutions, 'vert')\n",
    "print('greedy random vertex')\n",
    "printResults(res)\n",
    "res = GreedyExperiment(Graph('D'), previous_solutions_D, 'edge')\n",
    "print('greedy previous edge')\n",
    "printResults(res)\n",
    "res = GreedyExperiment(Graph('D'), previous_solutions_D, 'vert')\n",
    "print('greedy previous vertex')\n",
    "printResults(res)\n",
    "\n",
    "res = SteepestExperiment(Graph('D'), random_solutions, 'edge')\n",
    "print('steepest random edge')\n",
    "printResults(res)\n",
    "res = SteepestExperiment(Graph('D'), random_solutions, 'vert')\n",
    "print('steepest random vertex')\n",
    "printResults(res)\n",
    "res = SteepestExperiment(Graph('D'), previous_solutions_D, 'edge')\n",
    "print('steepest previous edge')\n",
    "printResults(res)\n",
    "res = SteepestExperiment(Graph('D'), previous_solutions_D, 'vert')\n",
    "print('steepest previous vertex')\n",
    "printResults(res)"
   ]
  },
  {
   "cell_type": "code",
   "execution_count": 16,
   "metadata": {},
   "outputs": [
    {
     "name": "stderr",
     "output_type": "stream",
     "text": [
      "  0%|          | 0/200 [00:00<?, ?it/s]c:\\Users\\Kuba\\AppData\\Local\\Programs\\Python\\Python39\\lib\\site-packages\\numpy\\core\\_asarray.py:83: VisibleDeprecationWarning: Creating an ndarray from ragged nested sequences (which is a list-or-tuple of lists-or-tuples-or ndarrays with different lengths or shapes) is deprecated. If you meant to do this, you must specify 'dtype=object' when creating the ndarray\n",
      "  return array(a, dtype, copy=False, order=order)\n",
      "100%|██████████| 200/200 [06:41<00:00,  2.01s/it]\n"
     ]
    },
    {
     "name": "stdout",
     "output_type": "stream",
     "text": [
      "greedy random edge\n",
      "min: 49509 max: 79017 avg: 68856.285\n"
     ]
    },
    {
     "name": "stderr",
     "output_type": "stream",
     "text": [
      "100%|██████████| 200/200 [06:55<00:00,  2.08s/it]\n"
     ]
    },
    {
     "name": "stdout",
     "output_type": "stream",
     "text": [
      "greedy random vertex\n",
      "min: 57023 max: 103052 avg: 84826.455\n"
     ]
    },
    {
     "name": "stderr",
     "output_type": "stream",
     "text": [
      "100%|██████████| 200/200 [00:47<00:00,  4.17it/s]\n"
     ]
    },
    {
     "name": "stdout",
     "output_type": "stream",
     "text": [
      "greedy previous edge\n",
      "min: 52262 max: 57658 avg: 54362.085\n"
     ]
    },
    {
     "name": "stderr",
     "output_type": "stream",
     "text": [
      "100%|██████████| 200/200 [00:33<00:00,  5.98it/s]\n"
     ]
    },
    {
     "name": "stdout",
     "output_type": "stream",
     "text": [
      "greedy previous vertex\n",
      "min: 52335 max: 57658 avg: 54596.13\n"
     ]
    },
    {
     "name": "stderr",
     "output_type": "stream",
     "text": [
      "100%|██████████| 200/200 [17:14<00:00,  5.17s/it]\n"
     ]
    },
    {
     "name": "stdout",
     "output_type": "stream",
     "text": [
      "steepest random edge\n",
      "min: 49957 max: 65442 avg: 53476.83\n"
     ]
    },
    {
     "name": "stderr",
     "output_type": "stream",
     "text": [
      "100%|██████████| 200/200 [24:10<00:00,  7.25s/it]\n"
     ]
    },
    {
     "name": "stdout",
     "output_type": "stream",
     "text": [
      "steepest random vertex\n",
      "min: 59496 max: 79880 avg: 68450.065\n"
     ]
    },
    {
     "name": "stderr",
     "output_type": "stream",
     "text": [
      "100%|██████████| 200/200 [01:17<00:00,  2.57it/s]\n"
     ]
    },
    {
     "name": "stdout",
     "output_type": "stream",
     "text": [
      "steepest previous edge\n",
      "min: 51931 max: 58196 avg: 54326.935\n"
     ]
    },
    {
     "name": "stderr",
     "output_type": "stream",
     "text": [
      "100%|██████████| 200/200 [01:14<00:00,  2.68it/s]"
     ]
    },
    {
     "name": "stdout",
     "output_type": "stream",
     "text": [
      "steepest previous vertex\n",
      "min: 52070 max: 58196 avg: 54594.045\n"
     ]
    },
    {
     "name": "stderr",
     "output_type": "stream",
     "text": [
      "\n"
     ]
    }
   ],
   "source": [
    "res = GreedyExperiment(Graph('C'), random_solutions, 'edge')\n",
    "print('greedy random edge')\n",
    "printResults(res)\n",
    "res = GreedyExperiment(Graph('C'), random_solutions, 'vert')\n",
    "print('greedy random vertex')\n",
    "printResults(res)\n",
    "res = GreedyExperiment(Graph('C'), previous_solutions_C, 'edge')\n",
    "print('greedy previous edge')\n",
    "printResults(res)\n",
    "res = GreedyExperiment(Graph('C'), previous_solutions_C, 'vert')\n",
    "print('greedy previous vertex')\n",
    "printResults(res)\n",
    "\n",
    "res = SteepestExperiment(Graph('C'), random_solutions, 'edge')\n",
    "print('steepest random edge')\n",
    "printResults(res)\n",
    "res = SteepestExperiment(Graph('C'), random_solutions, 'vert')\n",
    "print('steepest random vertex')\n",
    "printResults(res)\n",
    "res = SteepestExperiment(Graph('C'), previous_solutions_C, 'edge')\n",
    "print('steepest previous edge')\n",
    "printResults(res)\n",
    "res = SteepestExperiment(Graph('C'), previous_solutions_C, 'vert')\n",
    "print('steepest previous vertex')\n",
    "printResults(res)"
   ]
  },
  {
   "cell_type": "code",
   "execution_count": 17,
   "metadata": {},
   "outputs": [
    {
     "name": "stderr",
     "output_type": "stream",
     "text": [
      "100%|██████████| 200/200 [07:21<00:00,  2.21s/it]\n"
     ]
    },
    {
     "name": "stdout",
     "output_type": "stream",
     "text": [
      "greedy random edge\n",
      "min: 68934 max: 128097 avg: 110734.53\n"
     ]
    },
    {
     "name": "stderr",
     "output_type": "stream",
     "text": [
      "100%|██████████| 200/200 [07:48<00:00,  2.34s/it]\n"
     ]
    },
    {
     "name": "stdout",
     "output_type": "stream",
     "text": [
      "greedy random vertex\n",
      "min: 79165 max: 153401 avg: 127430.97\n"
     ]
    },
    {
     "name": "stderr",
     "output_type": "stream",
     "text": [
      "100%|██████████| 200/200 [01:18<00:00,  2.55it/s]\n"
     ]
    },
    {
     "name": "stdout",
     "output_type": "stream",
     "text": [
      "greedy previous edge\n",
      "min: 68186 max: 78756 avg: 71860.745\n"
     ]
    },
    {
     "name": "stderr",
     "output_type": "stream",
     "text": [
      "100%|██████████| 200/200 [01:04<00:00,  3.12it/s]\n"
     ]
    },
    {
     "name": "stdout",
     "output_type": "stream",
     "text": [
      "greedy previous vertex\n",
      "min: 68826 max: 79218 avg: 72164.835\n"
     ]
    },
    {
     "name": "stderr",
     "output_type": "stream",
     "text": [
      "100%|██████████| 200/200 [16:54<00:00,  5.07s/it]\n"
     ]
    },
    {
     "name": "stdout",
     "output_type": "stream",
     "text": [
      "steepest random edge\n",
      "min: 69340 max: 92716 avg: 74732.37\n"
     ]
    },
    {
     "name": "stderr",
     "output_type": "stream",
     "text": [
      "100%|██████████| 200/200 [24:09<00:00,  7.25s/it]\n"
     ]
    },
    {
     "name": "stdout",
     "output_type": "stream",
     "text": [
      "steepest random vertex\n",
      "min: 77477 max: 123748 avg: 91954.505\n"
     ]
    },
    {
     "name": "stderr",
     "output_type": "stream",
     "text": [
      "100%|██████████| 200/200 [01:34<00:00,  2.12it/s]\n"
     ]
    },
    {
     "name": "stdout",
     "output_type": "stream",
     "text": [
      "steepest previous edge\n",
      "min: 68111 max: 77153 avg: 71617.52\n"
     ]
    },
    {
     "name": "stderr",
     "output_type": "stream",
     "text": [
      "100%|██████████| 200/200 [01:42<00:00,  1.95it/s]"
     ]
    },
    {
     "name": "stdout",
     "output_type": "stream",
     "text": [
      "steepest previous vertex\n",
      "min: 68826 max: 77546 avg: 72020.725\n"
     ]
    },
    {
     "name": "stderr",
     "output_type": "stream",
     "text": [
      "\n"
     ]
    }
   ],
   "source": [
    "res = GreedyExperiment(Graph('B'), random_solutions, 'edge')\n",
    "print('greedy random edge')\n",
    "printResults(res)\n",
    "res = GreedyExperiment(Graph('B'), random_solutions, 'vert')\n",
    "print('greedy random vertex')\n",
    "printResults(res)\n",
    "res = GreedyExperiment(Graph('B'), previous_solutions_B, 'edge')\n",
    "print('greedy previous edge')\n",
    "printResults(res)\n",
    "res = GreedyExperiment(Graph('B'), previous_solutions_B, 'vert')\n",
    "print('greedy previous vertex')\n",
    "printResults(res)\n",
    "\n",
    "res = SteepestExperiment(Graph('B'), random_solutions, 'edge')\n",
    "print('steepest random edge')\n",
    "printResults(res)\n",
    "res = SteepestExperiment(Graph('B'), random_solutions, 'vert')\n",
    "print('steepest random vertex')\n",
    "printResults(res)\n",
    "res = SteepestExperiment(Graph('B'), previous_solutions_B, 'edge')\n",
    "print('steepest previous edge')\n",
    "printResults(res)\n",
    "res = SteepestExperiment(Graph('B'), previous_solutions_B, 'vert')\n",
    "print('steepest previous vertex')\n",
    "printResults(res)"
   ]
  },
  {
   "cell_type": "code",
   "execution_count": 18,
   "metadata": {},
   "outputs": [
    {
     "name": "stderr",
     "output_type": "stream",
     "text": [
      "100%|██████████| 200/200 [06:13<00:00,  1.87s/it]\n"
     ]
    },
    {
     "name": "stdout",
     "output_type": "stream",
     "text": [
      "greedy random edge\n",
      "min: 75868 max: 129900 avg: 114601.405\n"
     ]
    },
    {
     "name": "stderr",
     "output_type": "stream",
     "text": [
      "100%|██████████| 200/200 [06:50<00:00,  2.05s/it]\n"
     ]
    },
    {
     "name": "stdout",
     "output_type": "stream",
     "text": [
      "greedy random vertex\n",
      "min: 85042 max: 153466 avg: 131795.885\n"
     ]
    },
    {
     "name": "stderr",
     "output_type": "stream",
     "text": [
      "100%|██████████| 200/200 [00:37<00:00,  5.38it/s]\n"
     ]
    },
    {
     "name": "stdout",
     "output_type": "stream",
     "text": [
      "greedy previous edge\n",
      "min: 74464 max: 79203 avg: 75749.715\n"
     ]
    },
    {
     "name": "stderr",
     "output_type": "stream",
     "text": [
      "100%|██████████| 200/200 [00:21<00:00,  9.49it/s]\n"
     ]
    },
    {
     "name": "stdout",
     "output_type": "stream",
     "text": [
      "greedy previous vertex\n",
      "min: 74733 max: 79453 avg: 75953.605\n"
     ]
    },
    {
     "name": "stderr",
     "output_type": "stream",
     "text": [
      "100%|██████████| 200/200 [16:42<00:00,  5.01s/it]\n"
     ]
    },
    {
     "name": "stdout",
     "output_type": "stream",
     "text": [
      "steepest random edge\n",
      "min: 76258 max: 100155 avg: 81309.59\n"
     ]
    },
    {
     "name": "stderr",
     "output_type": "stream",
     "text": [
      "100%|██████████| 200/200 [23:57<00:00,  7.19s/it]\n"
     ]
    },
    {
     "name": "stdout",
     "output_type": "stream",
     "text": [
      "steepest random vertex\n",
      "min: 87107 max: 128900 avg: 96927.06\n"
     ]
    },
    {
     "name": "stderr",
     "output_type": "stream",
     "text": [
      "100%|██████████| 200/200 [00:55<00:00,  3.63it/s]\n"
     ]
    },
    {
     "name": "stdout",
     "output_type": "stream",
     "text": [
      "steepest previous edge\n",
      "min: 74464 max: 79628 avg: 75752.57\n"
     ]
    },
    {
     "name": "stderr",
     "output_type": "stream",
     "text": [
      "100%|██████████| 200/200 [00:43<00:00,  4.61it/s]"
     ]
    },
    {
     "name": "stdout",
     "output_type": "stream",
     "text": [
      "steepest previous vertex\n",
      "min: 74733 max: 79906 avg: 75961.205\n"
     ]
    },
    {
     "name": "stderr",
     "output_type": "stream",
     "text": [
      "\n"
     ]
    }
   ],
   "source": [
    "res = GreedyExperiment(Graph('A'), random_solutions, 'edge')\n",
    "print('greedy random edge')\n",
    "printResults(res)\n",
    "res = GreedyExperiment(Graph('A'), random_solutions, 'vert')\n",
    "print('greedy random vertex')\n",
    "printResults(res)\n",
    "res = GreedyExperiment(Graph('A'), previous_solutions_A, 'edge')\n",
    "print('greedy previous edge')\n",
    "printResults(res)\n",
    "res = GreedyExperiment(Graph('A'), previous_solutions_A, 'vert')\n",
    "print('greedy previous vertex')\n",
    "printResults(res)\n",
    "\n",
    "res = SteepestExperiment(Graph('A'), random_solutions, 'edge')\n",
    "print('steepest random edge')\n",
    "printResults(res)\n",
    "res = SteepestExperiment(Graph('A'), random_solutions, 'vert')\n",
    "print('steepest random vertex')\n",
    "printResults(res)\n",
    "res = SteepestExperiment(Graph('A'), previous_solutions_A, 'edge')\n",
    "print('steepest previous edge')\n",
    "printResults(res)\n",
    "res = SteepestExperiment(Graph('A'), previous_solutions_A, 'vert')\n",
    "print('steepest previous vertex')\n",
    "printResults(res)"
   ]
  }
 ],
 "metadata": {
  "kernelspec": {
   "display_name": "Python 3",
   "language": "python",
   "name": "python3"
  },
  "language_info": {
   "codemirror_mode": {
    "name": "ipython",
    "version": 3
   },
   "file_extension": ".py",
   "mimetype": "text/x-python",
   "name": "python",
   "nbconvert_exporter": "python",
   "pygments_lexer": "ipython3",
   "version": "3.9.0"
  }
 },
 "nbformat": 4,
 "nbformat_minor": 2
}
