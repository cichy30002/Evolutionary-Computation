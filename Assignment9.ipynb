{
 "cells": [
  {
   "cell_type": "code",
   "execution_count": 58,
   "metadata": {},
   "outputs": [],
   "source": [
    "from TSPGraph import Graph\n",
    "import numpy as np\n",
    "from numba import jit\n",
    "from numba import njit, prange\n",
    "import copy\n",
    "from tqdm import tqdm\n",
    "from multiprocessing import Pool\n",
    "import time\n",
    "from copy import deepcopy\n",
    "from functools import lru_cache"
   ]
  },
  {
   "cell_type": "code",
   "execution_count": 2,
   "metadata": {},
   "outputs": [],
   "source": [
    "graph = Graph('C')\n",
    "obj = graph.objective\n",
    "dist = graph.dist_matrix"
   ]
  },
  {
   "cell_type": "code",
   "execution_count": 3,
   "metadata": {},
   "outputs": [
    {
     "name": "stderr",
     "output_type": "stream",
     "text": [
      "/var/folders/vt/8kg_3c6554l1gb7hr4vbyjgr0000gn/T/ipykernel_30810/3766937091.py:2: NumbaDeprecationWarning: The 'nopython' keyword argument was not supplied to the 'numba.jit' decorator. The implicit default value for this argument is currently False, but it will be changed to True in Numba 0.59.0. See https://numba.readthedocs.io/en/stable/reference/deprecation.html#deprecation-of-object-mode-fall-back-behaviour-when-using-jit for details.\n",
      "  def random_solution():\n"
     ]
    }
   ],
   "source": [
    "@jit\n",
    "def random_solution():\n",
    "    sol = np.random.choice(np.arange(200),size=100,replace=False)\n",
    "    return np.append(sol,sol[0])"
   ]
  },
  {
   "cell_type": "code",
   "execution_count": 4,
   "metadata": {},
   "outputs": [],
   "source": [
    "combination_pairs = [(x,y) for x in range(1,100) for y in range(x+2, 100)]\n",
    "combination_pairs_edges = [(x,y) for x in range(1,100) for y in range(x+2, 100)]"
   ]
  },
  {
   "cell_type": "code",
   "execution_count": 5,
   "metadata": {},
   "outputs": [
    {
     "name": "stderr",
     "output_type": "stream",
     "text": [
      "/var/folders/vt/8kg_3c6554l1gb7hr4vbyjgr0000gn/T/ipykernel_30810/2949073171.py:2: NumbaDeprecationWarning: The 'nopython' keyword argument was not supplied to the 'numba.jit' decorator. The implicit default value for this argument is currently False, but it will be changed to True in Numba 0.59.0. See https://numba.readthedocs.io/en/stable/reference/deprecation.html#deprecation-of-object-mode-fall-back-behaviour-when-using-jit for details.\n",
      "  def ExchangeVertices(solution, i, j):\n",
      "/var/folders/vt/8kg_3c6554l1gb7hr4vbyjgr0000gn/T/ipykernel_30810/2949073171.py:7: NumbaDeprecationWarning: The 'nopython' keyword argument was not supplied to the 'numba.jit' decorator. The implicit default value for this argument is currently False, but it will be changed to True in Numba 0.59.0. See https://numba.readthedocs.io/en/stable/reference/deprecation.html#deprecation-of-object-mode-fall-back-behaviour-when-using-jit for details.\n",
      "  def ExchangeVerticesDelta(dist, solution, i, j):\n",
      "/var/folders/vt/8kg_3c6554l1gb7hr4vbyjgr0000gn/T/ipykernel_30810/2949073171.py:11: NumbaDeprecationWarning: The 'nopython' keyword argument was not supplied to the 'numba.jit' decorator. The implicit default value for this argument is currently False, but it will be changed to True in Numba 0.59.0. See https://numba.readthedocs.io/en/stable/reference/deprecation.html#deprecation-of-object-mode-fall-back-behaviour-when-using-jit for details.\n",
      "  def MinInAllExchangedVertices(dist, solution):\n",
      "/var/folders/vt/8kg_3c6554l1gb7hr4vbyjgr0000gn/T/ipykernel_30810/2949073171.py:21: NumbaDeprecationWarning: The 'nopython' keyword argument was not supplied to the 'numba.jit' decorator. The implicit default value for this argument is currently False, but it will be changed to True in Numba 0.59.0. See https://numba.readthedocs.io/en/stable/reference/deprecation.html#deprecation-of-object-mode-fall-back-behaviour-when-using-jit for details.\n",
      "  def GreedyExchangeVertex(dist, solution):\n",
      "/var/folders/vt/8kg_3c6554l1gb7hr4vbyjgr0000gn/T/ipykernel_30810/2949073171.py:10: NumbaWarning: \n",
      "Compilation is falling back to object mode WITH looplifting enabled because Function \"MinInAllExchangedVertices\" failed type inference due to: Cannot unify Tuple() and UniTuple(int64 x 2) for 'resultExchange.3', defined at /var/folders/vt/8kg_3c6554l1gb7hr4vbyjgr0000gn/T/ipykernel_30810/2949073171.py (19)\n",
      "\n",
      "File \"../../../../../../var/folders/vt/8kg_3c6554l1gb7hr4vbyjgr0000gn/T/ipykernel_30810/2949073171.py\", line 19:\n",
      "<source missing, REPL/exec in use?>\n",
      "\n",
      "During: typing of assignment at /var/folders/vt/8kg_3c6554l1gb7hr4vbyjgr0000gn/T/ipykernel_30810/2949073171.py (19)\n",
      "\n",
      "File \"../../../../../../var/folders/vt/8kg_3c6554l1gb7hr4vbyjgr0000gn/T/ipykernel_30810/2949073171.py\", line 19:\n",
      "<source missing, REPL/exec in use?>\n",
      "\n",
      "  @jit\n",
      "/var/folders/vt/8kg_3c6554l1gb7hr4vbyjgr0000gn/T/ipykernel_30810/2949073171.py:10: NumbaWarning: \n",
      "Compilation is falling back to object mode WITHOUT looplifting enabled because Function \"MinInAllExchangedVertices\" failed type inference due to: Cannot determine Numba type of <class 'numba.core.dispatcher.LiftedLoop'>\n",
      "\n",
      "File \"../../../../../../var/folders/vt/8kg_3c6554l1gb7hr4vbyjgr0000gn/T/ipykernel_30810/2949073171.py\", line 14:\n",
      "<source missing, REPL/exec in use?>\n",
      "\n",
      "  @jit\n",
      "/opt/homebrew/lib/python3.10/site-packages/numba/core/object_mode_passes.py:151: NumbaWarning: Function \"MinInAllExchangedVertices\" was compiled in object mode without forceobj=True, but has lifted loops.\n",
      "\n",
      "File \"../../../../../../var/folders/vt/8kg_3c6554l1gb7hr4vbyjgr0000gn/T/ipykernel_30810/2949073171.py\", line 10:\n",
      "<source missing, REPL/exec in use?>\n",
      "\n",
      "  warnings.warn(errors.NumbaWarning(warn_msg,\n",
      "/opt/homebrew/lib/python3.10/site-packages/numba/core/object_mode_passes.py:161: NumbaDeprecationWarning: \n",
      "Fall-back from the nopython compilation path to the object mode compilation path has been detected. This is deprecated behaviour that will be removed in Numba 0.59.0.\n",
      "\n",
      "For more information visit https://numba.readthedocs.io/en/stable/reference/deprecation.html#deprecation-of-object-mode-fall-back-behaviour-when-using-jit\n",
      "\n",
      "File \"../../../../../../var/folders/vt/8kg_3c6554l1gb7hr4vbyjgr0000gn/T/ipykernel_30810/2949073171.py\", line 10:\n",
      "<source missing, REPL/exec in use?>\n",
      "\n",
      "  warnings.warn(errors.NumbaDeprecationWarning(msg,\n",
      "/var/folders/vt/8kg_3c6554l1gb7hr4vbyjgr0000gn/T/ipykernel_30810/2949073171.py:10: NumbaWarning: \n",
      "Compilation is falling back to object mode WITHOUT looplifting enabled because Function \"MinInAllExchangedVertices\" failed type inference due to: Cannot unify Tuple() and UniTuple(int64 x 2) for 'resultExchange', defined at /var/folders/vt/8kg_3c6554l1gb7hr4vbyjgr0000gn/T/ipykernel_30810/2949073171.py (14)\n",
      "\n",
      "File \"../../../../../../var/folders/vt/8kg_3c6554l1gb7hr4vbyjgr0000gn/T/ipykernel_30810/2949073171.py\", line 14:\n",
      "<source missing, REPL/exec in use?>\n",
      "\n",
      "During: typing of tuple at /var/folders/vt/8kg_3c6554l1gb7hr4vbyjgr0000gn/T/ipykernel_30810/2949073171.py (18)\n",
      "\n",
      "File \"../../../../../../var/folders/vt/8kg_3c6554l1gb7hr4vbyjgr0000gn/T/ipykernel_30810/2949073171.py\", line 18:\n",
      "<source missing, REPL/exec in use?>\n",
      "\n",
      "  @jit\n",
      "/opt/homebrew/lib/python3.10/site-packages/numba/core/object_mode_passes.py:151: NumbaWarning: Function \"MinInAllExchangedVertices\" was compiled in object mode without forceobj=True.\n",
      "\n",
      "File \"../../../../../../var/folders/vt/8kg_3c6554l1gb7hr4vbyjgr0000gn/T/ipykernel_30810/2949073171.py\", line 14:\n",
      "<source missing, REPL/exec in use?>\n",
      "\n",
      "  warnings.warn(errors.NumbaWarning(warn_msg,\n",
      "/opt/homebrew/lib/python3.10/site-packages/numba/core/object_mode_passes.py:161: NumbaDeprecationWarning: \n",
      "Fall-back from the nopython compilation path to the object mode compilation path has been detected. This is deprecated behaviour that will be removed in Numba 0.59.0.\n",
      "\n",
      "For more information visit https://numba.readthedocs.io/en/stable/reference/deprecation.html#deprecation-of-object-mode-fall-back-behaviour-when-using-jit\n",
      "\n",
      "File \"../../../../../../var/folders/vt/8kg_3c6554l1gb7hr4vbyjgr0000gn/T/ipykernel_30810/2949073171.py\", line 14:\n",
      "<source missing, REPL/exec in use?>\n",
      "\n",
      "  warnings.warn(errors.NumbaDeprecationWarning(msg,\n"
     ]
    },
    {
     "data": {
      "text/plain": [
       "[-10145, (37, 51)]"
      ]
     },
     "execution_count": 5,
     "metadata": {},
     "output_type": "execute_result"
    }
   ],
   "source": [
    "@jit\n",
    "def ExchangeVertices(solution, i, j):\n",
    "    result = copy.deepcopy(solution)\n",
    "    result[[i,j]] = result[[j,i]]\n",
    "    return result\n",
    "@jit\n",
    "def ExchangeVerticesDelta(dist, solution, i, j):\n",
    "    res = (dist[solution[i-1], solution[j]] + dist[solution[j], solution[i+1]] + dist[solution[j-1], solution[i]] + dist[solution[i], solution[j+1]]) - (dist[solution[i-1], solution[i]] + dist[solution[i], solution[i+1]] + dist[solution[j-1], solution[j]] + dist[solution[j], solution[j+1]])\n",
    "    return res\n",
    "@jit\n",
    "def MinInAllExchangedVertices(dist, solution):\n",
    "    minDelta = 0\n",
    "    resultExchange = tuple()\n",
    "    for x in combination_pairs:\n",
    "        delta = ExchangeVerticesDelta(dist, solution, x[0], x[1])\n",
    "        if delta < minDelta:\n",
    "            minDelta = delta\n",
    "            resultExchange = (x[0], x[1])\n",
    "    return [minDelta, resultExchange]\n",
    "@jit\n",
    "def GreedyExchangeVertex(dist, solution):\n",
    "    for x in combination_pairs:\n",
    "        delta = ExchangeVerticesDelta(dist, solution, x[0], x[1])\n",
    "        if delta < 0:\n",
    "            return (x[0], x[1])\n",
    "    return None\n",
    "\n",
    "\n",
    "MinInAllExchangedVertices(dist, random_solution())"
   ]
  },
  {
   "cell_type": "code",
   "execution_count": 6,
   "metadata": {},
   "outputs": [
    {
     "name": "stderr",
     "output_type": "stream",
     "text": [
      "/var/folders/vt/8kg_3c6554l1gb7hr4vbyjgr0000gn/T/ipykernel_30810/432162731.py:2: NumbaDeprecationWarning: The 'nopython' keyword argument was not supplied to the 'numba.jit' decorator. The implicit default value for this argument is currently False, but it will be changed to True in Numba 0.59.0. See https://numba.readthedocs.io/en/stable/reference/deprecation.html#deprecation-of-object-mode-fall-back-behaviour-when-using-jit for details.\n",
      "  def ExchangeEdges(solution, i, j):\n",
      "/var/folders/vt/8kg_3c6554l1gb7hr4vbyjgr0000gn/T/ipykernel_30810/432162731.py:8: NumbaDeprecationWarning: The 'nopython' keyword argument was not supplied to the 'numba.jit' decorator. The implicit default value for this argument is currently False, but it will be changed to True in Numba 0.59.0. See https://numba.readthedocs.io/en/stable/reference/deprecation.html#deprecation-of-object-mode-fall-back-behaviour-when-using-jit for details.\n",
      "  def ExchangeEdgesDelta(dist, solution, i, j):\n",
      "/var/folders/vt/8kg_3c6554l1gb7hr4vbyjgr0000gn/T/ipykernel_30810/432162731.py:13: NumbaDeprecationWarning: The 'nopython' keyword argument was not supplied to the 'numba.jit' decorator. The implicit default value for this argument is currently False, but it will be changed to True in Numba 0.59.0. See https://numba.readthedocs.io/en/stable/reference/deprecation.html#deprecation-of-object-mode-fall-back-behaviour-when-using-jit for details.\n",
      "  def MinInAllExchangedEdges(dist, solution):\n",
      "/var/folders/vt/8kg_3c6554l1gb7hr4vbyjgr0000gn/T/ipykernel_30810/432162731.py:23: NumbaDeprecationWarning: The 'nopython' keyword argument was not supplied to the 'numba.jit' decorator. The implicit default value for this argument is currently False, but it will be changed to True in Numba 0.59.0. See https://numba.readthedocs.io/en/stable/reference/deprecation.html#deprecation-of-object-mode-fall-back-behaviour-when-using-jit for details.\n",
      "  def GreedyExchangeEdges(dist, solution):\n",
      "/var/folders/vt/8kg_3c6554l1gb7hr4vbyjgr0000gn/T/ipykernel_30810/432162731.py:12: NumbaWarning: \n",
      "Compilation is falling back to object mode WITH looplifting enabled because Function \"MinInAllExchangedEdges\" failed type inference due to: Cannot unify Tuple() and UniTuple(int64 x 2) for 'resultExchange.3', defined at /var/folders/vt/8kg_3c6554l1gb7hr4vbyjgr0000gn/T/ipykernel_30810/432162731.py (21)\n",
      "\n",
      "File \"../../../../../../var/folders/vt/8kg_3c6554l1gb7hr4vbyjgr0000gn/T/ipykernel_30810/432162731.py\", line 21:\n",
      "<source missing, REPL/exec in use?>\n",
      "\n",
      "During: typing of assignment at /var/folders/vt/8kg_3c6554l1gb7hr4vbyjgr0000gn/T/ipykernel_30810/432162731.py (21)\n",
      "\n",
      "File \"../../../../../../var/folders/vt/8kg_3c6554l1gb7hr4vbyjgr0000gn/T/ipykernel_30810/432162731.py\", line 21:\n",
      "<source missing, REPL/exec in use?>\n",
      "\n",
      "  @jit\n",
      "/var/folders/vt/8kg_3c6554l1gb7hr4vbyjgr0000gn/T/ipykernel_30810/432162731.py:12: NumbaWarning: \n",
      "Compilation is falling back to object mode WITHOUT looplifting enabled because Function \"MinInAllExchangedEdges\" failed type inference due to: Cannot determine Numba type of <class 'numba.core.dispatcher.LiftedLoop'>\n",
      "\n",
      "File \"../../../../../../var/folders/vt/8kg_3c6554l1gb7hr4vbyjgr0000gn/T/ipykernel_30810/432162731.py\", line 16:\n",
      "<source missing, REPL/exec in use?>\n",
      "\n",
      "  @jit\n",
      "/opt/homebrew/lib/python3.10/site-packages/numba/core/object_mode_passes.py:151: NumbaWarning: Function \"MinInAllExchangedEdges\" was compiled in object mode without forceobj=True, but has lifted loops.\n",
      "\n",
      "File \"../../../../../../var/folders/vt/8kg_3c6554l1gb7hr4vbyjgr0000gn/T/ipykernel_30810/432162731.py\", line 12:\n",
      "<source missing, REPL/exec in use?>\n",
      "\n",
      "  warnings.warn(errors.NumbaWarning(warn_msg,\n",
      "/opt/homebrew/lib/python3.10/site-packages/numba/core/object_mode_passes.py:161: NumbaDeprecationWarning: \n",
      "Fall-back from the nopython compilation path to the object mode compilation path has been detected. This is deprecated behaviour that will be removed in Numba 0.59.0.\n",
      "\n",
      "For more information visit https://numba.readthedocs.io/en/stable/reference/deprecation.html#deprecation-of-object-mode-fall-back-behaviour-when-using-jit\n",
      "\n",
      "File \"../../../../../../var/folders/vt/8kg_3c6554l1gb7hr4vbyjgr0000gn/T/ipykernel_30810/432162731.py\", line 12:\n",
      "<source missing, REPL/exec in use?>\n",
      "\n",
      "  warnings.warn(errors.NumbaDeprecationWarning(msg,\n",
      "/var/folders/vt/8kg_3c6554l1gb7hr4vbyjgr0000gn/T/ipykernel_30810/432162731.py:12: NumbaWarning: \n",
      "Compilation is falling back to object mode WITHOUT looplifting enabled because Function \"MinInAllExchangedEdges\" failed type inference due to: Cannot unify Tuple() and UniTuple(int64 x 2) for 'resultExchange', defined at /var/folders/vt/8kg_3c6554l1gb7hr4vbyjgr0000gn/T/ipykernel_30810/432162731.py (16)\n",
      "\n",
      "File \"../../../../../../var/folders/vt/8kg_3c6554l1gb7hr4vbyjgr0000gn/T/ipykernel_30810/432162731.py\", line 16:\n",
      "<source missing, REPL/exec in use?>\n",
      "\n",
      "During: typing of tuple at /var/folders/vt/8kg_3c6554l1gb7hr4vbyjgr0000gn/T/ipykernel_30810/432162731.py (20)\n",
      "\n",
      "File \"../../../../../../var/folders/vt/8kg_3c6554l1gb7hr4vbyjgr0000gn/T/ipykernel_30810/432162731.py\", line 20:\n",
      "<source missing, REPL/exec in use?>\n",
      "\n",
      "  @jit\n",
      "/opt/homebrew/lib/python3.10/site-packages/numba/core/object_mode_passes.py:151: NumbaWarning: Function \"MinInAllExchangedEdges\" was compiled in object mode without forceobj=True.\n",
      "\n",
      "File \"../../../../../../var/folders/vt/8kg_3c6554l1gb7hr4vbyjgr0000gn/T/ipykernel_30810/432162731.py\", line 16:\n",
      "<source missing, REPL/exec in use?>\n",
      "\n",
      "  warnings.warn(errors.NumbaWarning(warn_msg,\n",
      "/opt/homebrew/lib/python3.10/site-packages/numba/core/object_mode_passes.py:161: NumbaDeprecationWarning: \n",
      "Fall-back from the nopython compilation path to the object mode compilation path has been detected. This is deprecated behaviour that will be removed in Numba 0.59.0.\n",
      "\n",
      "For more information visit https://numba.readthedocs.io/en/stable/reference/deprecation.html#deprecation-of-object-mode-fall-back-behaviour-when-using-jit\n",
      "\n",
      "File \"../../../../../../var/folders/vt/8kg_3c6554l1gb7hr4vbyjgr0000gn/T/ipykernel_30810/432162731.py\", line 16:\n",
      "<source missing, REPL/exec in use?>\n",
      "\n",
      "  warnings.warn(errors.NumbaDeprecationWarning(msg,\n"
     ]
    },
    {
     "data": {
      "text/plain": [
       "(-6192, (38, 42))"
      ]
     },
     "execution_count": 6,
     "metadata": {},
     "output_type": "execute_result"
    }
   ],
   "source": [
    "@jit\n",
    "def ExchangeEdges(solution, i, j):\n",
    "    assert i<j\n",
    "    result = copy.deepcopy(solution)\n",
    "    result = np.concatenate((result[:i], result[j:i-1:-1], result[j+1:]))\n",
    "    return result\n",
    "@jit\n",
    "def ExchangeEdgesDelta(dist, solution, i, j):\n",
    "    assert i<j\n",
    "    res = (dist[solution[i-1], solution[j]] + dist[solution[i], solution[j+1]]) - (dist[solution[i-1], solution[i]] + dist[solution[j], solution[j+1]])\n",
    "    return res\n",
    "@jit\n",
    "def MinInAllExchangedEdges(dist, solution):\n",
    "    minDelta = 0\n",
    "    resultExchange = tuple()\n",
    "    for x in combination_pairs_edges:\n",
    "        delta = ExchangeEdgesDelta(dist, solution, x[0], x[1])\n",
    "        if delta < minDelta:\n",
    "            minDelta = delta\n",
    "            resultExchange = (x[0], x[1])\n",
    "    return (minDelta, resultExchange)\n",
    "@jit\n",
    "def GreedyExchangeEdges(dist, solution):\n",
    "    for x in combination_pairs_edges:\n",
    "        delta = ExchangeEdgesDelta(dist, solution, x[0], x[1])\n",
    "        if delta < 0:\n",
    "            return (x[0], x[1])\n",
    "    return None\n",
    "\n",
    "MinInAllExchangedEdges(dist, random_solution())"
   ]
  },
  {
   "cell_type": "code",
   "execution_count": 7,
   "metadata": {},
   "outputs": [
    {
     "name": "stderr",
     "output_type": "stream",
     "text": [
      "/var/folders/vt/8kg_3c6554l1gb7hr4vbyjgr0000gn/T/ipykernel_30810/3288179290.py:2: NumbaDeprecationWarning: The 'nopython' keyword argument was not supplied to the 'numba.jit' decorator. The implicit default value for this argument is currently False, but it will be changed to True in Numba 0.59.0. See https://numba.readthedocs.io/en/stable/reference/deprecation.html#deprecation-of-object-mode-fall-back-behaviour-when-using-jit for details.\n",
      "  def SwapVertexWithNewOne(solution, i, a):\n",
      "/var/folders/vt/8kg_3c6554l1gb7hr4vbyjgr0000gn/T/ipykernel_30810/3288179290.py:7: NumbaDeprecationWarning: The 'nopython' keyword argument was not supplied to the 'numba.jit' decorator. The implicit default value for this argument is currently False, but it will be changed to True in Numba 0.59.0. See https://numba.readthedocs.io/en/stable/reference/deprecation.html#deprecation-of-object-mode-fall-back-behaviour-when-using-jit for details.\n",
      "  def SwapVertexWithNewOneDelta(obj, solution, i, a):\n",
      "/var/folders/vt/8kg_3c6554l1gb7hr4vbyjgr0000gn/T/ipykernel_30810/3288179290.py:10: NumbaDeprecationWarning: The 'nopython' keyword argument was not supplied to the 'numba.jit' decorator. The implicit default value for this argument is currently False, but it will be changed to True in Numba 0.59.0. See https://numba.readthedocs.io/en/stable/reference/deprecation.html#deprecation-of-object-mode-fall-back-behaviour-when-using-jit for details.\n",
      "  def MinInAllSwaps(solution, obj):\n",
      "/var/folders/vt/8kg_3c6554l1gb7hr4vbyjgr0000gn/T/ipykernel_30810/3288179290.py:24: NumbaDeprecationWarning: The 'nopython' keyword argument was not supplied to the 'numba.jit' decorator. The implicit default value for this argument is currently False, but it will be changed to True in Numba 0.59.0. See https://numba.readthedocs.io/en/stable/reference/deprecation.html#deprecation-of-object-mode-fall-back-behaviour-when-using-jit for details.\n",
      "  def GreedySwap(solution, obj):\n",
      "/var/folders/vt/8kg_3c6554l1gb7hr4vbyjgr0000gn/T/ipykernel_30810/3288179290.py:9: NumbaWarning: \n",
      "Compilation is falling back to object mode WITH looplifting enabled because Function \"MinInAllSwaps\" failed type inference due to: No implementation of function Function(<built-in function array>) found for signature:\n",
      " \n",
      " >>> array(range_state_int64)\n",
      " \n",
      "There are 2 candidate implementations:\n",
      "  - Of which 2 did not match due to:\n",
      "  Overload in function 'impl_np_array': File: numba/np/arrayobj.py: Line 5240.\n",
      "    With argument(s): '(range_state_int64)':\n",
      "   Rejected as the implementation raised a specific error:\n",
      "     TypingError: The argument \"object\" must be array-like\n",
      "  raised from /opt/homebrew/lib/python3.10/site-packages/numba/np/arrayobj.py:5244\n",
      "\n",
      "During: resolving callee type: Function(<built-in function array>)\n",
      "During: typing of call at /var/folders/vt/8kg_3c6554l1gb7hr4vbyjgr0000gn/T/ipykernel_30810/3288179290.py (11)\n",
      "\n",
      "\n",
      "File \"../../../../../../var/folders/vt/8kg_3c6554l1gb7hr4vbyjgr0000gn/T/ipykernel_30810/3288179290.py\", line 11:\n",
      "<source missing, REPL/exec in use?>\n",
      "\n",
      "  @jit\n",
      "/var/folders/vt/8kg_3c6554l1gb7hr4vbyjgr0000gn/T/ipykernel_30810/3288179290.py:9: NumbaWarning: \n",
      "Compilation is falling back to object mode WITHOUT looplifting enabled because Function \"MinInAllSwaps\" failed type inference due to: Cannot determine Numba type of <class 'numba.core.dispatcher.LiftedLoop'>\n",
      "\n",
      "File \"../../../../../../var/folders/vt/8kg_3c6554l1gb7hr4vbyjgr0000gn/T/ipykernel_30810/3288179290.py\", line 17:\n",
      "<source missing, REPL/exec in use?>\n",
      "\n",
      "  @jit\n",
      "/opt/homebrew/lib/python3.10/site-packages/numba/core/object_mode_passes.py:151: NumbaWarning: Function \"MinInAllSwaps\" was compiled in object mode without forceobj=True, but has lifted loops.\n",
      "\n",
      "File \"../../../../../../var/folders/vt/8kg_3c6554l1gb7hr4vbyjgr0000gn/T/ipykernel_30810/3288179290.py\", line 9:\n",
      "<source missing, REPL/exec in use?>\n",
      "\n",
      "  warnings.warn(errors.NumbaWarning(warn_msg,\n",
      "/opt/homebrew/lib/python3.10/site-packages/numba/core/object_mode_passes.py:161: NumbaDeprecationWarning: \n",
      "Fall-back from the nopython compilation path to the object mode compilation path has been detected. This is deprecated behaviour that will be removed in Numba 0.59.0.\n",
      "\n",
      "For more information visit https://numba.readthedocs.io/en/stable/reference/deprecation.html#deprecation-of-object-mode-fall-back-behaviour-when-using-jit\n",
      "\n",
      "File \"../../../../../../var/folders/vt/8kg_3c6554l1gb7hr4vbyjgr0000gn/T/ipykernel_30810/3288179290.py\", line 9:\n",
      "<source missing, REPL/exec in use?>\n",
      "\n",
      "  warnings.warn(errors.NumbaDeprecationWarning(msg,\n",
      "/var/folders/vt/8kg_3c6554l1gb7hr4vbyjgr0000gn/T/ipykernel_30810/3288179290.py:9: NumbaWarning: \n",
      "Compilation is falling back to object mode WITHOUT looplifting enabled because Function \"MinInAllSwaps\" failed type inference due to: Cannot unify Tuple() and UniTuple(int64 x 2) for 'resultSwap', defined at /var/folders/vt/8kg_3c6554l1gb7hr4vbyjgr0000gn/T/ipykernel_30810/3288179290.py (17)\n",
      "\n",
      "File \"../../../../../../var/folders/vt/8kg_3c6554l1gb7hr4vbyjgr0000gn/T/ipykernel_30810/3288179290.py\", line 17:\n",
      "<source missing, REPL/exec in use?>\n",
      "\n",
      "During: typing of tuple at /var/folders/vt/8kg_3c6554l1gb7hr4vbyjgr0000gn/T/ipykernel_30810/3288179290.py (21)\n",
      "\n",
      "File \"../../../../../../var/folders/vt/8kg_3c6554l1gb7hr4vbyjgr0000gn/T/ipykernel_30810/3288179290.py\", line 21:\n",
      "<source missing, REPL/exec in use?>\n",
      "\n",
      "  @jit\n",
      "/opt/homebrew/lib/python3.10/site-packages/numba/core/object_mode_passes.py:151: NumbaWarning: Function \"MinInAllSwaps\" was compiled in object mode without forceobj=True.\n",
      "\n",
      "File \"../../../../../../var/folders/vt/8kg_3c6554l1gb7hr4vbyjgr0000gn/T/ipykernel_30810/3288179290.py\", line 17:\n",
      "<source missing, REPL/exec in use?>\n",
      "\n",
      "  warnings.warn(errors.NumbaWarning(warn_msg,\n",
      "/opt/homebrew/lib/python3.10/site-packages/numba/core/object_mode_passes.py:161: NumbaDeprecationWarning: \n",
      "Fall-back from the nopython compilation path to the object mode compilation path has been detected. This is deprecated behaviour that will be removed in Numba 0.59.0.\n",
      "\n",
      "For more information visit https://numba.readthedocs.io/en/stable/reference/deprecation.html#deprecation-of-object-mode-fall-back-behaviour-when-using-jit\n",
      "\n",
      "File \"../../../../../../var/folders/vt/8kg_3c6554l1gb7hr4vbyjgr0000gn/T/ipykernel_30810/3288179290.py\", line 17:\n",
      "<source missing, REPL/exec in use?>\n",
      "\n",
      "  warnings.warn(errors.NumbaDeprecationWarning(msg,\n"
     ]
    },
    {
     "name": "stdout",
     "output_type": "stream",
     "text": [
      "(-6566, (17, 96))\n"
     ]
    }
   ],
   "source": [
    "@jit\n",
    "def SwapVertexWithNewOne(solution, i, a):\n",
    "    result = copy.deepcopy(solution)\n",
    "    result[i] = a\n",
    "    return result\n",
    "@jit\n",
    "def SwapVertexWithNewOneDelta(obj, solution, i, a):\n",
    "    return (obj[solution[i-1], a] + obj[a, solution[i+1]]) - (obj[solution[i-1], solution[i]] + obj[solution[i], solution[i+1]])\n",
    "@jit\n",
    "def MinInAllSwaps(solution, obj):\n",
    "    domain = np.array(range(200))\n",
    "    not_in_sol = domain[np.isin(domain, solution, invert=True)]\n",
    "    #pairs of index in current cycle - node \n",
    "    pairs = np.transpose([np.tile(domain[:100], 100), np.repeat(not_in_sol, 100)])\n",
    "    minDelta = 0\n",
    "    resultSwap = tuple()\n",
    "    for x in pairs:\n",
    "        delta = SwapVertexWithNewOneDelta(obj, solution, x[0], x[1])\n",
    "        if delta < minDelta:\n",
    "            minDelta = delta\n",
    "            resultSwap = (x[0], x[1])\n",
    "    return (minDelta, resultSwap)\n",
    "@jit\n",
    "def GreedySwap(solution, obj):\n",
    "    domain = np.array(range(200))\n",
    "    not_in_sol = domain[np.isin(domain, solution, invert=True)]\n",
    "    #pairs of index in current cycle - node \n",
    "    pairs = np.transpose([np.tile(domain[:100], 100), np.repeat(not_in_sol, 100)])\n",
    "    for x in pairs:\n",
    "        delta = SwapVertexWithNewOneDelta(obj, solution, x[0], x[1])\n",
    "        if delta < 0:\n",
    "            return (x[0], x[1])\n",
    "    return None\n",
    "print(MinInAllSwaps(random_solution(), obj))"
   ]
  },
  {
   "cell_type": "code",
   "execution_count": 16,
   "metadata": {},
   "outputs": [
    {
     "name": "stderr",
     "output_type": "stream",
     "text": [
      "/var/folders/vt/8kg_3c6554l1gb7hr4vbyjgr0000gn/T/ipykernel_30810/4110361867.py:2: NumbaDeprecationWarning: The 'nopython' keyword argument was not supplied to the 'numba.jit' decorator. The implicit default value for this argument is currently False, but it will be changed to True in Numba 0.59.0. See https://numba.readthedocs.io/en/stable/reference/deprecation.html#deprecation-of-object-mode-fall-back-behaviour-when-using-jit for details.\n",
      "  def SteepestLocalSearch(obj, dist, initial_solution, type, graph):\n",
      "/var/folders/vt/8kg_3c6554l1gb7hr4vbyjgr0000gn/T/ipykernel_30810/4110361867.py:1: NumbaWarning: \n",
      "Compilation is falling back to object mode WITH looplifting enabled because Function \"SteepestLocalSearch\" failed type inference due to: non-precise type pyobject\n",
      "During: typing of argument at /var/folders/vt/8kg_3c6554l1gb7hr4vbyjgr0000gn/T/ipykernel_30810/4110361867.py (1)\n",
      "\n",
      "File \"../../../../../../var/folders/vt/8kg_3c6554l1gb7hr4vbyjgr0000gn/T/ipykernel_30810/4110361867.py\", line 1:\n",
      "<source missing, REPL/exec in use?>\n",
      "\n",
      "  @jit\n",
      "/opt/homebrew/lib/python3.10/site-packages/numba/core/object_mode_passes.py:151: NumbaWarning: Function \"SteepestLocalSearch\" was compiled in object mode without forceobj=True.\n",
      "\n",
      "File \"../../../../../../var/folders/vt/8kg_3c6554l1gb7hr4vbyjgr0000gn/T/ipykernel_30810/4110361867.py\", line 1:\n",
      "<source missing, REPL/exec in use?>\n",
      "\n",
      "  warnings.warn(errors.NumbaWarning(warn_msg,\n",
      "/opt/homebrew/lib/python3.10/site-packages/numba/core/object_mode_passes.py:161: NumbaDeprecationWarning: \n",
      "Fall-back from the nopython compilation path to the object mode compilation path has been detected. This is deprecated behaviour that will be removed in Numba 0.59.0.\n",
      "\n",
      "For more information visit https://numba.readthedocs.io/en/stable/reference/deprecation.html#deprecation-of-object-mode-fall-back-behaviour-when-using-jit\n",
      "\n",
      "File \"../../../../../../var/folders/vt/8kg_3c6554l1gb7hr4vbyjgr0000gn/T/ipykernel_30810/4110361867.py\", line 1:\n",
      "<source missing, REPL/exec in use?>\n",
      "\n",
      "  warnings.warn(errors.NumbaDeprecationWarning(msg,\n"
     ]
    },
    {
     "data": {
      "text/plain": [
       "(array([ 32,  62,  53,  22,  55,  30, 195,  74, 163, 113, 181,  25,  85,\n",
       "         36, 132, 128, 118,  84,  37, 158, 185,  64,  27, 147,  96,  59,\n",
       "        159, 143,  34, 164, 178,  19,  69,   0, 149,  50, 121,  91,   4,\n",
       "        114,  77, 192, 199, 174, 137, 177,  41,   1, 152,  11, 160, 106,\n",
       "         48,  92,  26, 119, 130,  75, 189, 109, 134,  95, 110, 169,   8,\n",
       "        124,  80,  31,  89,  94,  72, 112,  51, 135,  99, 101,  60,   9,\n",
       "        175, 167,  88, 153, 127, 186,  45,  98,  66, 156, 172,   6, 141,\n",
       "         87, 144,  79, 194,  21, 171, 117,  15, 108,  32]),\n",
       " 52156)"
      ]
     },
     "execution_count": 16,
     "metadata": {},
     "output_type": "execute_result"
    }
   ],
   "source": [
    "@jit\n",
    "def SteepestLocalSearch(obj, dist, initial_solution, type, graph):\n",
    "    current_solution = initial_solution\n",
    "    max_iter = 1_000_000\n",
    "    while(max_iter > 0):\n",
    "        # print(current_cost)\n",
    "        best_swap_val, best_swap = MinInAllSwaps(current_solution, obj)\n",
    "        if type == 'edge':\n",
    "            best_exchange_val, best_exchange = MinInAllExchangedEdges(dist, current_solution)\n",
    "        else:\n",
    "            best_exchange_val, best_exchange = MinInAllExchangedVertices(dist, current_solution)\n",
    "        \n",
    "        if best_swap_val >= 0 and best_exchange_val >= 0:\n",
    "            break\n",
    "\n",
    "        if best_swap_val < best_exchange_val:\n",
    "            current_solution = SwapVertexWithNewOne(current_solution, best_swap[0], best_swap[1])\n",
    "            # print('swap' + str(best_swap_val))\n",
    "        elif type == 'edge':\n",
    "            current_solution = ExchangeEdges(current_solution, best_exchange[0], best_exchange[1])\n",
    "            # print('exchange ' + str(best_exchange_val) + str(best_exchange))\n",
    "        else:\n",
    "            current_solution = ExchangeVertices(current_solution, best_exchange[0], best_exchange[1])\n",
    "            # print('exchange ' + str(best_exchange_val) + str(best_exchange))\n",
    "\n",
    "        max_iter -= 1\n",
    "    return current_solution, graph.cycle_cost(current_solution)\n",
    "        \n",
    "SteepestLocalSearch(obj, dist, random_solution(), 'edge', graph)"
   ]
  },
  {
   "cell_type": "code",
   "execution_count": 59,
   "metadata": {},
   "outputs": [],
   "source": [
    "@lru_cache(maxsize=1_000_000)\n",
    "def addition_cost(graph, triplet):\n",
    "    return graph.objective[triplet[0], triplet[1]] + graph.objective[triplet[1], triplet[2]] - graph.objective[triplet[0], triplet[2]]"
   ]
  },
  {
   "cell_type": "code",
   "execution_count": 85,
   "metadata": {},
   "outputs": [
    {
     "name": "stderr",
     "output_type": "stream",
     "text": [
      "/var/folders/vt/8kg_3c6554l1gb7hr4vbyjgr0000gn/T/ipykernel_30810/689422102.py:2: NumbaDeprecationWarning: The 'nopython' keyword argument was not supplied to the 'numba.jit' decorator. The implicit default value for this argument is currently False, but it will be changed to True in Numba 0.59.0. See https://numba.readthedocs.io/en/stable/reference/deprecation.html#deprecation-of-object-mode-fall-back-behaviour-when-using-jit for details.\n",
      "  def getRegret2Weighted(graph, cycle):\n"
     ]
    }
   ],
   "source": [
    "@jit\n",
    "def getRegret2Weighted(graph, cycle):\n",
    "    candidates = np.delete(np.arange(200), cycle)\n",
    "    # print(candidates)\n",
    "    costs = [-9999999] * 200\n",
    "    solutions = [0] * 200\n",
    "    weigth = 0.61\n",
    "    scores = [-9999999] * 200\n",
    "    temporaryCost = graph.cycle_cost(cycle)\n",
    "    for candidate in candidates:\n",
    "        currentCosts = []\n",
    "        currentSolutions = []\n",
    "        for i in range(len(cycle) - 1):\n",
    "            currentCosts.append(graph.cycle_cost(cycle) + addition_cost(graph,(cycle[i],candidate,cycle[i+1])))\n",
    "            currentSolutions.append(np.concatenate((cycle[:i + 1],np.array([candidate]).reshape((1,)), cycle[i + 1:])))\n",
    "        firstBestId = np.argmin(currentCosts)\n",
    "        firstBestCost = currentCosts[firstBestId]\n",
    "        currentCosts = np.delete(currentCosts, firstBestId)\n",
    "        secondBestId = np.argmin(currentCosts)\n",
    "        secondBestCost = currentCosts[secondBestId]\n",
    "        bestSolution = currentSolutions[firstBestId]\n",
    "\n",
    "        newTemporaryCost = graph.cycle_cost(bestSolution)\n",
    "        difference = newTemporaryCost - temporaryCost\n",
    "        scores[candidate] = weigth * (secondBestCost - firstBestCost) - (1 - weigth) * difference\n",
    "        costs[candidate] = newTemporaryCost\n",
    "        solutions[candidate] = bestSolution\n",
    "\n",
    "    bestRegretId = np.argmax(scores)\n",
    "    cycle = solutions[bestRegretId]\n",
    "    temporaryCost = costs[bestRegretId]\n",
    "\n",
    "    # print(cycle)\n",
    "    return cycle"
   ]
  },
  {
   "cell_type": "code",
   "execution_count": 84,
   "metadata": {},
   "outputs": [
    {
     "name": "stderr",
     "output_type": "stream",
     "text": [
      "/var/folders/vt/8kg_3c6554l1gb7hr4vbyjgr0000gn/T/ipykernel_30810/1305367034.py:9: NumbaDeprecationWarning: The 'nopython' keyword argument was not supplied to the 'numba.jit' decorator. The implicit default value for this argument is currently False, but it will be changed to True in Numba 0.59.0. See https://numba.readthedocs.io/en/stable/reference/deprecation.html#deprecation-of-object-mode-fall-back-behaviour-when-using-jit for details.\n",
      "  def repairCycle(graph, cycle):\n"
     ]
    }
   ],
   "source": [
    "# @jit\n",
    "# def repairCycle(graph, cycle):\n",
    "#   while -1 in cycle:\n",
    "#     print(np.count_nonzero(cycle==-1))\n",
    "#     cycle = getRegret2Weighted(graph, cycle)\n",
    "\n",
    "#   return cycle\n",
    "@jit\n",
    "def repairCycle(graph, cycle):\n",
    "  cycle = [node for node in cycle if node != -1]\n",
    "\n",
    "  while(len(cycle) < 101):\n",
    "    cycle = getRegret2Weighted(graph, cycle)\n",
    "\n",
    "  return cycle"
   ]
  },
  {
   "cell_type": "code",
   "execution_count": 117,
   "metadata": {},
   "outputs": [],
   "source": [
    "def createOffspringOperator1(firstParent, secondParent, graph):\n",
    "  offspring = np.array([-1 for i in range(101)])\n",
    "  \n",
    "  for i in range(len(firstParent)):\n",
    "    if firstParent[i] in secondParent:\n",
    "      offspring[i] = firstParent[i]\n",
    "\n",
    "  for i in range(101):\n",
    "    potentialNodes = list(set(range(200)) - set(offspring))\n",
    "\n",
    "    if offspring[i] == - 1:\n",
    "      offspring[i] = np.random.choice(potentialNodes, 1)[0]\n",
    "\n",
    "  return offspring, graph.cycle_cost(offspring)"
   ]
  },
  {
   "cell_type": "code",
   "execution_count": 118,
   "metadata": {},
   "outputs": [],
   "source": [
    "def createOffspringOperator2(firstParent, secondParent, graph):\n",
    "  offspring = np.array([-1 for _ in range(101)])\n",
    "\n",
    "  for i in range(len(firstParent)):\n",
    "    if firstParent[i] in secondParent:\n",
    "      offspring[i] = firstParent[i]\n",
    "\n",
    "  offspring = repairCycle(graph, offspring)\n",
    "  return offspring, graph.cycle_cost(offspring)"
   ]
  },
  {
   "cell_type": "code",
   "execution_count": 109,
   "metadata": {},
   "outputs": [],
   "source": [
    "def createOffsprings(firstParent, secondParent, graph):\n",
    "  firstOffspring = createOffspringOperator1(firstParent, secondParent, graph)\n",
    "  secondOffspring = createOffspringOperator2(firstParent, secondParent, graph)\n",
    "\n",
    "  return firstOffspring, secondOffspring\n"
   ]
  },
  {
   "cell_type": "code",
   "execution_count": 139,
   "metadata": {},
   "outputs": [],
   "source": [
    "def createNewPopulation(population, graph):\n",
    "  childrenSize = 10\n",
    "  newPopulation = deepcopy(population)\n",
    "\n",
    "  for _ in range(childrenSize):\n",
    "    firstParentId, secondParentId = np.random.choice(len(population), 2, replace=False)\n",
    "    firstParent, secondParent = population[firstParentId][0], population[secondParentId][0]\n",
    "\n",
    "    firstOffspring, secondOffspring = createOffsprings(firstParent, secondParent, graph)\n",
    "\n",
    "    populationCosts = [solution[1] for solution in newPopulation]\n",
    "\n",
    "    # checking costs as identifier of the solution, since comparing array returned\n",
    "    # strange runtime errors\n",
    "    if not firstOffspring[1] in populationCosts:\n",
    "      newPopulation.append(firstOffspring)\n",
    "\n",
    "    if not secondOffspring[1] in populationCosts:\n",
    "      newPopulation.append(secondOffspring)\n",
    "  \n",
    "  return sorted(newPopulation, key = lambda solution: solution[1])[:len(population)]"
   ]
  },
  {
   "cell_type": "code",
   "execution_count": 134,
   "metadata": {},
   "outputs": [],
   "source": [
    "def hybridEvolutionaryAlgorithm(obj, dist, timeLimit, graph):\n",
    "  population = [SteepestLocalSearch(obj, dist, random_solution(), 'edge', graph) for _ in range(20)]\n",
    "  bestSolution = population[0]\n",
    "  timeout = time.time() + timeLimit\n",
    "  while(time.time() < timeout):\n",
    "      population = createNewPopulation(population, graph)\n",
    "\n",
    "      if population[0][1] < bestSolution[1]:\n",
    "         bestSolution = population[0]\n",
    "\n",
    "    \n",
    "  return bestSolution[0], bestSolution[1]"
   ]
  },
  {
   "cell_type": "code",
   "execution_count": 142,
   "metadata": {},
   "outputs": [],
   "source": [
    "def hybridEvolutionaryAlgorithmExperiment(obj, dist, graph):\n",
    "  solutions = []\n",
    "  costs = []\n",
    "  for i in range(20):\n",
    "    bestSolution, bestCost = hybridEvolutionaryAlgorithm(obj, dist, 140, graph)\n",
    "    solutions.append(bestSolution)\n",
    "    costs.append(bestCost)\n",
    "    print(bestCost)\n",
    "  return solutions, costs"
   ]
  },
  {
   "cell_type": "code",
   "execution_count": 143,
   "metadata": {},
   "outputs": [
    {
     "name": "stderr",
     "output_type": "stream",
     "text": [
      "/opt/homebrew/lib/python3.10/site-packages/numpy/core/fromnumeric.py:43: VisibleDeprecationWarning: Creating an ndarray from ragged nested sequences (which is a list-or-tuple of lists-or-tuples-or ndarrays with different lengths or shapes) is deprecated. If you meant to do this, you must specify 'dtype=object' when creating the ndarray.\n",
      "  result = getattr(asarray(obj), method)(*args, **kwds)\n"
     ]
    },
    {
     "name": "stdout",
     "output_type": "stream",
     "text": [
      "48512\n",
      "48970\n",
      "48720\n",
      "49303\n",
      "49556\n",
      "48385\n",
      "49586\n",
      "49224\n",
      "49015\n",
      "48641\n",
      "49025\n",
      "49305\n",
      "48283\n",
      "49089\n",
      "49389\n",
      "48558\n",
      "48661\n",
      "49264\n",
      "48910\n",
      "48630\n"
     ]
    }
   ],
   "source": [
    "graph = Graph('C')\n",
    "\n",
    "solutionsC, costsC = hybridEvolutionaryAlgorithmExperiment(graph.objective, graph.dist_matrix, graph)"
   ]
  },
  {
   "cell_type": "code",
   "execution_count": 144,
   "metadata": {},
   "outputs": [
    {
     "name": "stdout",
     "output_type": "stream",
     "text": [
      "48283 49586 48951.3 48992.5\n"
     ]
    }
   ],
   "source": [
    "print(np.min(costsC), np.max(costsC), np.mean(costsC), np.median(costsC))"
   ]
  },
  {
   "cell_type": "code",
   "execution_count": 145,
   "metadata": {},
   "outputs": [
    {
     "name": "stderr",
     "output_type": "stream",
     "text": [
      "/opt/homebrew/lib/python3.10/site-packages/numpy/core/fromnumeric.py:43: VisibleDeprecationWarning: Creating an ndarray from ragged nested sequences (which is a list-or-tuple of lists-or-tuples-or ndarrays with different lengths or shapes) is deprecated. If you meant to do this, you must specify 'dtype=object' when creating the ndarray.\n",
      "  result = getattr(asarray(obj), method)(*args, **kwds)\n"
     ]
    },
    {
     "name": "stdout",
     "output_type": "stream",
     "text": [
      "45530\n",
      "44460\n",
      "45548\n",
      "44998\n",
      "46272\n",
      "45389\n",
      "46058\n",
      "45221\n",
      "45991\n",
      "44857\n",
      "45477\n",
      "45090\n",
      "45369\n",
      "44883\n",
      "45266\n",
      "46118\n",
      "46045\n",
      "45826\n",
      "44438\n",
      "45891\n"
     ]
    }
   ],
   "source": [
    "graph = Graph('D')\n",
    "\n",
    "solutionsD, costsD = hybridEvolutionaryAlgorithmExperiment(graph.objective, graph.dist_matrix, graph)"
   ]
  },
  {
   "cell_type": "code",
   "execution_count": 146,
   "metadata": {},
   "outputs": [
    {
     "name": "stdout",
     "output_type": "stream",
     "text": [
      "44438 46272 45436.35 45433.0\n"
     ]
    }
   ],
   "source": [
    "print(np.min(costsD), np.max(costsD), np.mean(costsD), np.median(costsD))"
   ]
  }
 ],
 "metadata": {
  "kernelspec": {
   "display_name": "Python 3",
   "language": "python",
   "name": "python3"
  },
  "language_info": {
   "codemirror_mode": {
    "name": "ipython",
    "version": 3
   },
   "file_extension": ".py",
   "mimetype": "text/x-python",
   "name": "python",
   "nbconvert_exporter": "python",
   "pygments_lexer": "ipython3",
   "version": "3.10.13"
  }
 },
 "nbformat": 4,
 "nbformat_minor": 2
}
