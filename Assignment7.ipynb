{
 "cells": [
  {
   "cell_type": "code",
   "execution_count": 39,
   "metadata": {},
   "outputs": [],
   "source": [
    "from TSPGraph import Graph\n",
    "import numpy as np\n",
    "from numba import jit\n",
    "from numba import njit, prange\n",
    "import copy\n",
    "from tqdm import tqdm\n",
    "from multiprocessing import Pool\n",
    "import time\n",
    "from functools import lru_cache"
   ]
  },
  {
   "cell_type": "code",
   "execution_count": 14,
   "metadata": {},
   "outputs": [
    {
     "name": "stderr",
     "output_type": "stream",
     "text": [
      "/opt/homebrew/lib/python3.10/site-packages/numpy/core/fromnumeric.py:43: VisibleDeprecationWarning: Creating an ndarray from ragged nested sequences (which is a list-or-tuple of lists-or-tuples-or ndarrays with different lengths or shapes) is deprecated. If you meant to do this, you must specify 'dtype=object' when creating the ndarray.\n",
      "  result = getattr(asarray(obj), method)(*args, **kwds)\n"
     ]
    }
   ],
   "source": [
    "graph = Graph('C')\n",
    "obj = graph.objective\n",
    "dist = graph.dist_matrix"
   ]
  },
  {
   "cell_type": "code",
   "execution_count": 15,
   "metadata": {},
   "outputs": [
    {
     "name": "stderr",
     "output_type": "stream",
     "text": [
      "/var/folders/vt/8kg_3c6554l1gb7hr4vbyjgr0000gn/T/ipykernel_35307/3766937091.py:2: NumbaDeprecationWarning: The 'nopython' keyword argument was not supplied to the 'numba.jit' decorator. The implicit default value for this argument is currently False, but it will be changed to True in Numba 0.59.0. See https://numba.readthedocs.io/en/stable/reference/deprecation.html#deprecation-of-object-mode-fall-back-behaviour-when-using-jit for details.\n",
      "  def random_solution():\n"
     ]
    }
   ],
   "source": [
    "@jit\n",
    "def random_solution():\n",
    "    sol = np.random.choice(np.arange(200),size=100,replace=False)\n",
    "    return np.append(sol,sol[0])"
   ]
  },
  {
   "cell_type": "code",
   "execution_count": 16,
   "metadata": {},
   "outputs": [],
   "source": [
    "combination_pairs = [(x,y) for x in range(1,100) for y in range(x+2, 100)]\n",
    "combination_pairs_edges = [(x,y) for x in range(1,100) for y in range(x+2, 100)]"
   ]
  },
  {
   "cell_type": "code",
   "execution_count": 17,
   "metadata": {},
   "outputs": [
    {
     "name": "stderr",
     "output_type": "stream",
     "text": [
      "/var/folders/vt/8kg_3c6554l1gb7hr4vbyjgr0000gn/T/ipykernel_35307/2949073171.py:2: NumbaDeprecationWarning: The 'nopython' keyword argument was not supplied to the 'numba.jit' decorator. The implicit default value for this argument is currently False, but it will be changed to True in Numba 0.59.0. See https://numba.readthedocs.io/en/stable/reference/deprecation.html#deprecation-of-object-mode-fall-back-behaviour-when-using-jit for details.\n",
      "  def ExchangeVertices(solution, i, j):\n",
      "/var/folders/vt/8kg_3c6554l1gb7hr4vbyjgr0000gn/T/ipykernel_35307/2949073171.py:7: NumbaDeprecationWarning: The 'nopython' keyword argument was not supplied to the 'numba.jit' decorator. The implicit default value for this argument is currently False, but it will be changed to True in Numba 0.59.0. See https://numba.readthedocs.io/en/stable/reference/deprecation.html#deprecation-of-object-mode-fall-back-behaviour-when-using-jit for details.\n",
      "  def ExchangeVerticesDelta(dist, solution, i, j):\n",
      "/var/folders/vt/8kg_3c6554l1gb7hr4vbyjgr0000gn/T/ipykernel_35307/2949073171.py:11: NumbaDeprecationWarning: The 'nopython' keyword argument was not supplied to the 'numba.jit' decorator. The implicit default value for this argument is currently False, but it will be changed to True in Numba 0.59.0. See https://numba.readthedocs.io/en/stable/reference/deprecation.html#deprecation-of-object-mode-fall-back-behaviour-when-using-jit for details.\n",
      "  def MinInAllExchangedVertices(dist, solution):\n",
      "/var/folders/vt/8kg_3c6554l1gb7hr4vbyjgr0000gn/T/ipykernel_35307/2949073171.py:21: NumbaDeprecationWarning: The 'nopython' keyword argument was not supplied to the 'numba.jit' decorator. The implicit default value for this argument is currently False, but it will be changed to True in Numba 0.59.0. See https://numba.readthedocs.io/en/stable/reference/deprecation.html#deprecation-of-object-mode-fall-back-behaviour-when-using-jit for details.\n",
      "  def GreedyExchangeVertex(dist, solution):\n",
      "/opt/homebrew/lib/python3.10/site-packages/numpy/core/fromnumeric.py:43: VisibleDeprecationWarning: Creating an ndarray from ragged nested sequences (which is a list-or-tuple of lists-or-tuples-or ndarrays with different lengths or shapes) is deprecated. If you meant to do this, you must specify 'dtype=object' when creating the ndarray.\n",
      "  result = getattr(asarray(obj), method)(*args, **kwds)\n",
      "/opt/homebrew/lib/python3.10/site-packages/numpy/core/fromnumeric.py:43: VisibleDeprecationWarning: Creating an ndarray from ragged nested sequences (which is a list-or-tuple of lists-or-tuples-or ndarrays with different lengths or shapes) is deprecated. If you meant to do this, you must specify 'dtype=object' when creating the ndarray.\n",
      "  result = getattr(asarray(obj), method)(*args, **kwds)\n",
      "/var/folders/vt/8kg_3c6554l1gb7hr4vbyjgr0000gn/T/ipykernel_35307/2949073171.py:10: NumbaWarning: \n",
      "Compilation is falling back to object mode WITH looplifting enabled because Function \"MinInAllExchangedVertices\" failed type inference due to: Cannot unify Tuple() and UniTuple(int64 x 2) for 'resultExchange.3', defined at /var/folders/vt/8kg_3c6554l1gb7hr4vbyjgr0000gn/T/ipykernel_35307/2949073171.py (19)\n",
      "\n",
      "File \"../../../../../../var/folders/vt/8kg_3c6554l1gb7hr4vbyjgr0000gn/T/ipykernel_35307/2949073171.py\", line 19:\n",
      "<source missing, REPL/exec in use?>\n",
      "\n",
      "During: typing of assignment at /var/folders/vt/8kg_3c6554l1gb7hr4vbyjgr0000gn/T/ipykernel_35307/2949073171.py (19)\n",
      "\n",
      "File \"../../../../../../var/folders/vt/8kg_3c6554l1gb7hr4vbyjgr0000gn/T/ipykernel_35307/2949073171.py\", line 19:\n",
      "<source missing, REPL/exec in use?>\n",
      "\n",
      "  @jit\n",
      "/var/folders/vt/8kg_3c6554l1gb7hr4vbyjgr0000gn/T/ipykernel_35307/2949073171.py:10: NumbaWarning: \n",
      "Compilation is falling back to object mode WITHOUT looplifting enabled because Function \"MinInAllExchangedVertices\" failed type inference due to: Cannot determine Numba type of <class 'numba.core.dispatcher.LiftedLoop'>\n",
      "\n",
      "File \"../../../../../../var/folders/vt/8kg_3c6554l1gb7hr4vbyjgr0000gn/T/ipykernel_35307/2949073171.py\", line 14:\n",
      "<source missing, REPL/exec in use?>\n",
      "\n",
      "  @jit\n",
      "/opt/homebrew/lib/python3.10/site-packages/numba/core/object_mode_passes.py:151: NumbaWarning: Function \"MinInAllExchangedVertices\" was compiled in object mode without forceobj=True, but has lifted loops.\n",
      "\n",
      "File \"../../../../../../var/folders/vt/8kg_3c6554l1gb7hr4vbyjgr0000gn/T/ipykernel_35307/2949073171.py\", line 10:\n",
      "<source missing, REPL/exec in use?>\n",
      "\n",
      "  warnings.warn(errors.NumbaWarning(warn_msg,\n",
      "/opt/homebrew/lib/python3.10/site-packages/numba/core/object_mode_passes.py:161: NumbaDeprecationWarning: \n",
      "Fall-back from the nopython compilation path to the object mode compilation path has been detected. This is deprecated behaviour that will be removed in Numba 0.59.0.\n",
      "\n",
      "For more information visit https://numba.readthedocs.io/en/stable/reference/deprecation.html#deprecation-of-object-mode-fall-back-behaviour-when-using-jit\n",
      "\n",
      "File \"../../../../../../var/folders/vt/8kg_3c6554l1gb7hr4vbyjgr0000gn/T/ipykernel_35307/2949073171.py\", line 10:\n",
      "<source missing, REPL/exec in use?>\n",
      "\n",
      "  warnings.warn(errors.NumbaDeprecationWarning(msg,\n",
      "/var/folders/vt/8kg_3c6554l1gb7hr4vbyjgr0000gn/T/ipykernel_35307/2949073171.py:10: NumbaWarning: \n",
      "Compilation is falling back to object mode WITHOUT looplifting enabled because Function \"MinInAllExchangedVertices\" failed type inference due to: Cannot unify Tuple() and UniTuple(int64 x 2) for 'resultExchange', defined at /var/folders/vt/8kg_3c6554l1gb7hr4vbyjgr0000gn/T/ipykernel_35307/2949073171.py (14)\n",
      "\n",
      "File \"../../../../../../var/folders/vt/8kg_3c6554l1gb7hr4vbyjgr0000gn/T/ipykernel_35307/2949073171.py\", line 14:\n",
      "<source missing, REPL/exec in use?>\n",
      "\n",
      "During: typing of tuple at /var/folders/vt/8kg_3c6554l1gb7hr4vbyjgr0000gn/T/ipykernel_35307/2949073171.py (18)\n",
      "\n",
      "File \"../../../../../../var/folders/vt/8kg_3c6554l1gb7hr4vbyjgr0000gn/T/ipykernel_35307/2949073171.py\", line 18:\n",
      "<source missing, REPL/exec in use?>\n",
      "\n",
      "  @jit\n",
      "/opt/homebrew/lib/python3.10/site-packages/numba/core/object_mode_passes.py:151: NumbaWarning: Function \"MinInAllExchangedVertices\" was compiled in object mode without forceobj=True.\n",
      "\n",
      "File \"../../../../../../var/folders/vt/8kg_3c6554l1gb7hr4vbyjgr0000gn/T/ipykernel_35307/2949073171.py\", line 14:\n",
      "<source missing, REPL/exec in use?>\n",
      "\n",
      "  warnings.warn(errors.NumbaWarning(warn_msg,\n",
      "/opt/homebrew/lib/python3.10/site-packages/numba/core/object_mode_passes.py:161: NumbaDeprecationWarning: \n",
      "Fall-back from the nopython compilation path to the object mode compilation path has been detected. This is deprecated behaviour that will be removed in Numba 0.59.0.\n",
      "\n",
      "For more information visit https://numba.readthedocs.io/en/stable/reference/deprecation.html#deprecation-of-object-mode-fall-back-behaviour-when-using-jit\n",
      "\n",
      "File \"../../../../../../var/folders/vt/8kg_3c6554l1gb7hr4vbyjgr0000gn/T/ipykernel_35307/2949073171.py\", line 14:\n",
      "<source missing, REPL/exec in use?>\n",
      "\n",
      "  warnings.warn(errors.NumbaDeprecationWarning(msg,\n"
     ]
    },
    {
     "data": {
      "text/plain": [
       "[-9611, (40, 95)]"
      ]
     },
     "execution_count": 17,
     "metadata": {},
     "output_type": "execute_result"
    }
   ],
   "source": [
    "@jit\n",
    "def ExchangeVertices(solution, i, j):\n",
    "    result = copy.deepcopy(solution)\n",
    "    result[[i,j]] = result[[j,i]]\n",
    "    return result\n",
    "@jit\n",
    "def ExchangeVerticesDelta(dist, solution, i, j):\n",
    "    res = (dist[solution[i-1], solution[j]] + dist[solution[j], solution[i+1]] + dist[solution[j-1], solution[i]] + dist[solution[i], solution[j+1]]) - (dist[solution[i-1], solution[i]] + dist[solution[i], solution[i+1]] + dist[solution[j-1], solution[j]] + dist[solution[j], solution[j+1]])\n",
    "    return res\n",
    "@jit\n",
    "def MinInAllExchangedVertices(dist, solution):\n",
    "    minDelta = 0\n",
    "    resultExchange = tuple()\n",
    "    for x in combination_pairs:\n",
    "        delta = ExchangeVerticesDelta(dist, solution, x[0], x[1])\n",
    "        if delta < minDelta:\n",
    "            minDelta = delta\n",
    "            resultExchange = (x[0], x[1])\n",
    "    return [minDelta, resultExchange]\n",
    "@jit\n",
    "def GreedyExchangeVertex(dist, solution):\n",
    "    for x in combination_pairs:\n",
    "        delta = ExchangeVerticesDelta(dist, solution, x[0], x[1])\n",
    "        if delta < 0:\n",
    "            return (x[0], x[1])\n",
    "    return None\n",
    "\n",
    "\n",
    "MinInAllExchangedVertices(dist, random_solution())"
   ]
  },
  {
   "cell_type": "code",
   "execution_count": 18,
   "metadata": {},
   "outputs": [
    {
     "name": "stderr",
     "output_type": "stream",
     "text": [
      "/var/folders/vt/8kg_3c6554l1gb7hr4vbyjgr0000gn/T/ipykernel_35307/432162731.py:2: NumbaDeprecationWarning: The 'nopython' keyword argument was not supplied to the 'numba.jit' decorator. The implicit default value for this argument is currently False, but it will be changed to True in Numba 0.59.0. See https://numba.readthedocs.io/en/stable/reference/deprecation.html#deprecation-of-object-mode-fall-back-behaviour-when-using-jit for details.\n",
      "  def ExchangeEdges(solution, i, j):\n",
      "/var/folders/vt/8kg_3c6554l1gb7hr4vbyjgr0000gn/T/ipykernel_35307/432162731.py:8: NumbaDeprecationWarning: The 'nopython' keyword argument was not supplied to the 'numba.jit' decorator. The implicit default value for this argument is currently False, but it will be changed to True in Numba 0.59.0. See https://numba.readthedocs.io/en/stable/reference/deprecation.html#deprecation-of-object-mode-fall-back-behaviour-when-using-jit for details.\n",
      "  def ExchangeEdgesDelta(dist, solution, i, j):\n",
      "/var/folders/vt/8kg_3c6554l1gb7hr4vbyjgr0000gn/T/ipykernel_35307/432162731.py:13: NumbaDeprecationWarning: The 'nopython' keyword argument was not supplied to the 'numba.jit' decorator. The implicit default value for this argument is currently False, but it will be changed to True in Numba 0.59.0. See https://numba.readthedocs.io/en/stable/reference/deprecation.html#deprecation-of-object-mode-fall-back-behaviour-when-using-jit for details.\n",
      "  def MinInAllExchangedEdges(dist, solution):\n",
      "/var/folders/vt/8kg_3c6554l1gb7hr4vbyjgr0000gn/T/ipykernel_35307/432162731.py:23: NumbaDeprecationWarning: The 'nopython' keyword argument was not supplied to the 'numba.jit' decorator. The implicit default value for this argument is currently False, but it will be changed to True in Numba 0.59.0. See https://numba.readthedocs.io/en/stable/reference/deprecation.html#deprecation-of-object-mode-fall-back-behaviour-when-using-jit for details.\n",
      "  def GreedyExchangeEdges(dist, solution):\n",
      "/var/folders/vt/8kg_3c6554l1gb7hr4vbyjgr0000gn/T/ipykernel_35307/432162731.py:12: NumbaWarning: \n",
      "Compilation is falling back to object mode WITH looplifting enabled because Function \"MinInAllExchangedEdges\" failed type inference due to: Cannot unify Tuple() and UniTuple(int64 x 2) for 'resultExchange.3', defined at /var/folders/vt/8kg_3c6554l1gb7hr4vbyjgr0000gn/T/ipykernel_35307/432162731.py (21)\n",
      "\n",
      "File \"../../../../../../var/folders/vt/8kg_3c6554l1gb7hr4vbyjgr0000gn/T/ipykernel_35307/432162731.py\", line 21:\n",
      "<source missing, REPL/exec in use?>\n",
      "\n",
      "During: typing of assignment at /var/folders/vt/8kg_3c6554l1gb7hr4vbyjgr0000gn/T/ipykernel_35307/432162731.py (21)\n",
      "\n",
      "File \"../../../../../../var/folders/vt/8kg_3c6554l1gb7hr4vbyjgr0000gn/T/ipykernel_35307/432162731.py\", line 21:\n",
      "<source missing, REPL/exec in use?>\n",
      "\n",
      "  @jit\n",
      "/var/folders/vt/8kg_3c6554l1gb7hr4vbyjgr0000gn/T/ipykernel_35307/432162731.py:12: NumbaWarning: \n",
      "Compilation is falling back to object mode WITHOUT looplifting enabled because Function \"MinInAllExchangedEdges\" failed type inference due to: Cannot determine Numba type of <class 'numba.core.dispatcher.LiftedLoop'>\n",
      "\n",
      "File \"../../../../../../var/folders/vt/8kg_3c6554l1gb7hr4vbyjgr0000gn/T/ipykernel_35307/432162731.py\", line 16:\n",
      "<source missing, REPL/exec in use?>\n",
      "\n",
      "  @jit\n",
      "/opt/homebrew/lib/python3.10/site-packages/numba/core/object_mode_passes.py:151: NumbaWarning: Function \"MinInAllExchangedEdges\" was compiled in object mode without forceobj=True, but has lifted loops.\n",
      "\n",
      "File \"../../../../../../var/folders/vt/8kg_3c6554l1gb7hr4vbyjgr0000gn/T/ipykernel_35307/432162731.py\", line 12:\n",
      "<source missing, REPL/exec in use?>\n",
      "\n",
      "  warnings.warn(errors.NumbaWarning(warn_msg,\n",
      "/opt/homebrew/lib/python3.10/site-packages/numba/core/object_mode_passes.py:161: NumbaDeprecationWarning: \n",
      "Fall-back from the nopython compilation path to the object mode compilation path has been detected. This is deprecated behaviour that will be removed in Numba 0.59.0.\n",
      "\n",
      "For more information visit https://numba.readthedocs.io/en/stable/reference/deprecation.html#deprecation-of-object-mode-fall-back-behaviour-when-using-jit\n",
      "\n",
      "File \"../../../../../../var/folders/vt/8kg_3c6554l1gb7hr4vbyjgr0000gn/T/ipykernel_35307/432162731.py\", line 12:\n",
      "<source missing, REPL/exec in use?>\n",
      "\n",
      "  warnings.warn(errors.NumbaDeprecationWarning(msg,\n",
      "/var/folders/vt/8kg_3c6554l1gb7hr4vbyjgr0000gn/T/ipykernel_35307/432162731.py:12: NumbaWarning: \n",
      "Compilation is falling back to object mode WITHOUT looplifting enabled because Function \"MinInAllExchangedEdges\" failed type inference due to: Cannot unify Tuple() and UniTuple(int64 x 2) for 'resultExchange', defined at /var/folders/vt/8kg_3c6554l1gb7hr4vbyjgr0000gn/T/ipykernel_35307/432162731.py (16)\n",
      "\n",
      "File \"../../../../../../var/folders/vt/8kg_3c6554l1gb7hr4vbyjgr0000gn/T/ipykernel_35307/432162731.py\", line 16:\n",
      "<source missing, REPL/exec in use?>\n",
      "\n",
      "During: typing of tuple at /var/folders/vt/8kg_3c6554l1gb7hr4vbyjgr0000gn/T/ipykernel_35307/432162731.py (20)\n",
      "\n",
      "File \"../../../../../../var/folders/vt/8kg_3c6554l1gb7hr4vbyjgr0000gn/T/ipykernel_35307/432162731.py\", line 20:\n",
      "<source missing, REPL/exec in use?>\n",
      "\n",
      "  @jit\n",
      "/opt/homebrew/lib/python3.10/site-packages/numba/core/object_mode_passes.py:151: NumbaWarning: Function \"MinInAllExchangedEdges\" was compiled in object mode without forceobj=True.\n",
      "\n",
      "File \"../../../../../../var/folders/vt/8kg_3c6554l1gb7hr4vbyjgr0000gn/T/ipykernel_35307/432162731.py\", line 16:\n",
      "<source missing, REPL/exec in use?>\n",
      "\n",
      "  warnings.warn(errors.NumbaWarning(warn_msg,\n",
      "/opt/homebrew/lib/python3.10/site-packages/numba/core/object_mode_passes.py:161: NumbaDeprecationWarning: \n",
      "Fall-back from the nopython compilation path to the object mode compilation path has been detected. This is deprecated behaviour that will be removed in Numba 0.59.0.\n",
      "\n",
      "For more information visit https://numba.readthedocs.io/en/stable/reference/deprecation.html#deprecation-of-object-mode-fall-back-behaviour-when-using-jit\n",
      "\n",
      "File \"../../../../../../var/folders/vt/8kg_3c6554l1gb7hr4vbyjgr0000gn/T/ipykernel_35307/432162731.py\", line 16:\n",
      "<source missing, REPL/exec in use?>\n",
      "\n",
      "  warnings.warn(errors.NumbaDeprecationWarning(msg,\n"
     ]
    },
    {
     "data": {
      "text/plain": [
       "(-6253, (24, 50))"
      ]
     },
     "execution_count": 18,
     "metadata": {},
     "output_type": "execute_result"
    }
   ],
   "source": [
    "@jit\n",
    "def ExchangeEdges(solution, i, j):\n",
    "    assert i<j\n",
    "    result = copy.deepcopy(solution)\n",
    "    result = np.concatenate((result[:i], result[j:i-1:-1], result[j+1:]))\n",
    "    return result\n",
    "@jit\n",
    "def ExchangeEdgesDelta(dist, solution, i, j):\n",
    "    assert i<j\n",
    "    res = (dist[solution[i-1], solution[j]] + dist[solution[i], solution[j+1]]) - (dist[solution[i-1], solution[i]] + dist[solution[j], solution[j+1]])\n",
    "    return res\n",
    "@jit\n",
    "def MinInAllExchangedEdges(dist, solution):\n",
    "    minDelta = 0\n",
    "    resultExchange = tuple()\n",
    "    for x in combination_pairs_edges:\n",
    "        delta = ExchangeEdgesDelta(dist, solution, x[0], x[1])\n",
    "        if delta < minDelta:\n",
    "            minDelta = delta\n",
    "            resultExchange = (x[0], x[1])\n",
    "    return (minDelta, resultExchange)\n",
    "@jit\n",
    "def GreedyExchangeEdges(dist, solution):\n",
    "    for x in combination_pairs_edges:\n",
    "        delta = ExchangeEdgesDelta(dist, solution, x[0], x[1])\n",
    "        if delta < 0:\n",
    "            return (x[0], x[1])\n",
    "    return None\n",
    "\n",
    "MinInAllExchangedEdges(dist, random_solution())"
   ]
  },
  {
   "cell_type": "code",
   "execution_count": 19,
   "metadata": {},
   "outputs": [
    {
     "name": "stderr",
     "output_type": "stream",
     "text": [
      "/var/folders/vt/8kg_3c6554l1gb7hr4vbyjgr0000gn/T/ipykernel_35307/432162731.py:1: NumbaWarning: \n",
      "Compilation is falling back to object mode WITH looplifting enabled because Function \"ExchangeEdges\" failed type inference due to: Unknown attribute 'deepcopy' of type Module(<module 'copy' from '/opt/homebrew/Cellar/python@3.10/3.10.7/Frameworks/Python.framework/Versions/3.10/lib/python3.10/copy.py'>)\n",
      "\n",
      "File \"../../../../../../var/folders/vt/8kg_3c6554l1gb7hr4vbyjgr0000gn/T/ipykernel_35307/432162731.py\", line 4:\n",
      "<source missing, REPL/exec in use?>\n",
      "\n",
      "During: typing of get attribute at /var/folders/vt/8kg_3c6554l1gb7hr4vbyjgr0000gn/T/ipykernel_35307/432162731.py (4)\n",
      "\n",
      "File \"../../../../../../var/folders/vt/8kg_3c6554l1gb7hr4vbyjgr0000gn/T/ipykernel_35307/432162731.py\", line 4:\n",
      "<source missing, REPL/exec in use?>\n",
      "\n",
      "  @jit\n",
      "/opt/homebrew/lib/python3.10/site-packages/numba/core/object_mode_passes.py:151: NumbaWarning: Function \"ExchangeEdges\" was compiled in object mode without forceobj=True.\n",
      "\n",
      "File \"../../../../../../var/folders/vt/8kg_3c6554l1gb7hr4vbyjgr0000gn/T/ipykernel_35307/432162731.py\", line 1:\n",
      "<source missing, REPL/exec in use?>\n",
      "\n",
      "  warnings.warn(errors.NumbaWarning(warn_msg,\n",
      "/opt/homebrew/lib/python3.10/site-packages/numba/core/object_mode_passes.py:161: NumbaDeprecationWarning: \n",
      "Fall-back from the nopython compilation path to the object mode compilation path has been detected. This is deprecated behaviour that will be removed in Numba 0.59.0.\n",
      "\n",
      "For more information visit https://numba.readthedocs.io/en/stable/reference/deprecation.html#deprecation-of-object-mode-fall-back-behaviour-when-using-jit\n",
      "\n",
      "File \"../../../../../../var/folders/vt/8kg_3c6554l1gb7hr4vbyjgr0000gn/T/ipykernel_35307/432162731.py\", line 1:\n",
      "<source missing, REPL/exec in use?>\n",
      "\n",
      "  warnings.warn(errors.NumbaDeprecationWarning(msg,\n",
      "/var/folders/vt/8kg_3c6554l1gb7hr4vbyjgr0000gn/T/ipykernel_35307/3288179290.py:9: NumbaWarning: \n",
      "Compilation is falling back to object mode WITH looplifting enabled because Function \"MinInAllSwaps\" failed type inference due to: No implementation of function Function(<built-in function array>) found for signature:\n",
      " \n",
      " >>> array(range_state_int64)\n",
      " \n",
      "There are 2 candidate implementations:\n",
      "      - Of which 2 did not match due to:\n",
      "      Overload in function 'impl_np_array': File: numba/np/arrayobj.py: Line 5240.\n",
      "        With argument(s): '(range_state_int64)':\n",
      "       Rejected as the implementation raised a specific error:\n",
      "         TypingError: The argument \"object\" must be array-like\n",
      "  raised from /opt/homebrew/lib/python3.10/site-packages/numba/np/arrayobj.py:5244\n",
      "\n",
      "During: resolving callee type: Function(<built-in function array>)\n",
      "During: typing of call at /var/folders/vt/8kg_3c6554l1gb7hr4vbyjgr0000gn/T/ipykernel_35307/3288179290.py (11)\n",
      "\n",
      "\n",
      "File \"../../../../../../var/folders/vt/8kg_3c6554l1gb7hr4vbyjgr0000gn/T/ipykernel_35307/3288179290.py\", line 11:\n",
      "<source missing, REPL/exec in use?>\n",
      "\n",
      "  @jit\n",
      "/var/folders/vt/8kg_3c6554l1gb7hr4vbyjgr0000gn/T/ipykernel_35307/3288179290.py:9: NumbaWarning: \n",
      "Compilation is falling back to object mode WITHOUT looplifting enabled because Function \"MinInAllSwaps\" failed type inference due to: Cannot determine Numba type of <class 'numba.core.dispatcher.LiftedLoop'>\n",
      "\n",
      "File \"../../../../../../var/folders/vt/8kg_3c6554l1gb7hr4vbyjgr0000gn/T/ipykernel_35307/3288179290.py\", line 17:\n",
      "<source missing, REPL/exec in use?>\n",
      "\n",
      "  @jit\n",
      "/opt/homebrew/lib/python3.10/site-packages/numba/core/object_mode_passes.py:151: NumbaWarning: Function \"MinInAllSwaps\" was compiled in object mode without forceobj=True, but has lifted loops.\n",
      "\n",
      "File \"../../../../../../var/folders/vt/8kg_3c6554l1gb7hr4vbyjgr0000gn/T/ipykernel_35307/3288179290.py\", line 9:\n",
      "<source missing, REPL/exec in use?>\n",
      "\n",
      "  warnings.warn(errors.NumbaWarning(warn_msg,\n",
      "/opt/homebrew/lib/python3.10/site-packages/numba/core/object_mode_passes.py:161: NumbaDeprecationWarning: \n",
      "Fall-back from the nopython compilation path to the object mode compilation path has been detected. This is deprecated behaviour that will be removed in Numba 0.59.0.\n",
      "\n",
      "For more information visit https://numba.readthedocs.io/en/stable/reference/deprecation.html#deprecation-of-object-mode-fall-back-behaviour-when-using-jit\n",
      "\n",
      "File \"../../../../../../var/folders/vt/8kg_3c6554l1gb7hr4vbyjgr0000gn/T/ipykernel_35307/3288179290.py\", line 9:\n",
      "<source missing, REPL/exec in use?>\n",
      "\n",
      "  warnings.warn(errors.NumbaDeprecationWarning(msg,\n",
      "/var/folders/vt/8kg_3c6554l1gb7hr4vbyjgr0000gn/T/ipykernel_35307/3288179290.py:9: NumbaWarning: \n",
      "Compilation is falling back to object mode WITHOUT looplifting enabled because Function \"MinInAllSwaps\" failed type inference due to: Cannot unify Tuple() and UniTuple(int64 x 2) for 'resultSwap', defined at /var/folders/vt/8kg_3c6554l1gb7hr4vbyjgr0000gn/T/ipykernel_35307/3288179290.py (17)\n",
      "\n",
      "File \"../../../../../../var/folders/vt/8kg_3c6554l1gb7hr4vbyjgr0000gn/T/ipykernel_35307/3288179290.py\", line 17:\n",
      "<source missing, REPL/exec in use?>\n",
      "\n",
      "During: typing of tuple at /var/folders/vt/8kg_3c6554l1gb7hr4vbyjgr0000gn/T/ipykernel_35307/3288179290.py (21)\n",
      "\n",
      "File \"../../../../../../var/folders/vt/8kg_3c6554l1gb7hr4vbyjgr0000gn/T/ipykernel_35307/3288179290.py\", line 21:\n",
      "<source missing, REPL/exec in use?>\n",
      "\n",
      "  @jit\n",
      "/opt/homebrew/lib/python3.10/site-packages/numba/core/object_mode_passes.py:151: NumbaWarning: Function \"MinInAllSwaps\" was compiled in object mode without forceobj=True.\n",
      "\n",
      "File \"../../../../../../var/folders/vt/8kg_3c6554l1gb7hr4vbyjgr0000gn/T/ipykernel_35307/3288179290.py\", line 17:\n",
      "<source missing, REPL/exec in use?>\n",
      "\n",
      "  warnings.warn(errors.NumbaWarning(warn_msg,\n",
      "/opt/homebrew/lib/python3.10/site-packages/numba/core/object_mode_passes.py:161: NumbaDeprecationWarning: \n",
      "Fall-back from the nopython compilation path to the object mode compilation path has been detected. This is deprecated behaviour that will be removed in Numba 0.59.0.\n",
      "\n",
      "For more information visit https://numba.readthedocs.io/en/stable/reference/deprecation.html#deprecation-of-object-mode-fall-back-behaviour-when-using-jit\n",
      "\n",
      "File \"../../../../../../var/folders/vt/8kg_3c6554l1gb7hr4vbyjgr0000gn/T/ipykernel_35307/3288179290.py\", line 17:\n",
      "<source missing, REPL/exec in use?>\n",
      "\n",
      "  warnings.warn(errors.NumbaDeprecationWarning(msg,\n"
     ]
    },
    {
     "name": "stdout",
     "output_type": "stream",
     "text": [
      "(-5300, (27, 169))\n"
     ]
    },
    {
     "name": "stderr",
     "output_type": "stream",
     "text": [
      "/var/folders/vt/8kg_3c6554l1gb7hr4vbyjgr0000gn/T/ipykernel_35307/3288179290.py:1: NumbaWarning: \n",
      "Compilation is falling back to object mode WITH looplifting enabled because Function \"SwapVertexWithNewOne\" failed type inference due to: Unknown attribute 'deepcopy' of type Module(<module 'copy' from '/opt/homebrew/Cellar/python@3.10/3.10.7/Frameworks/Python.framework/Versions/3.10/lib/python3.10/copy.py'>)\n",
      "\n",
      "File \"../../../../../../var/folders/vt/8kg_3c6554l1gb7hr4vbyjgr0000gn/T/ipykernel_35307/3288179290.py\", line 3:\n",
      "<source missing, REPL/exec in use?>\n",
      "\n",
      "During: typing of get attribute at /var/folders/vt/8kg_3c6554l1gb7hr4vbyjgr0000gn/T/ipykernel_35307/3288179290.py (3)\n",
      "\n",
      "File \"../../../../../../var/folders/vt/8kg_3c6554l1gb7hr4vbyjgr0000gn/T/ipykernel_35307/3288179290.py\", line 3:\n",
      "<source missing, REPL/exec in use?>\n",
      "\n",
      "  @jit\n"
     ]
    }
   ],
   "source": [
    "@jit\n",
    "def SwapVertexWithNewOne(solution, i, a):\n",
    "    result = copy.deepcopy(solution)\n",
    "    result[i] = a\n",
    "    return result\n",
    "@jit\n",
    "def SwapVertexWithNewOneDelta(obj, solution, i, a):\n",
    "    return (obj[solution[i-1], a] + obj[a, solution[i+1]]) - (obj[solution[i-1], solution[i]] + obj[solution[i], solution[i+1]])\n",
    "@jit\n",
    "def MinInAllSwaps(solution, obj):\n",
    "    domain = np.array(range(200))\n",
    "    not_in_sol = domain[np.isin(domain, solution, invert=True)]\n",
    "    #pairs of index in current cycle - node \n",
    "    pairs = np.transpose([np.tile(domain[:100], 100), np.repeat(not_in_sol, 100)])\n",
    "    minDelta = 0\n",
    "    resultSwap = tuple()\n",
    "    for x in pairs:\n",
    "        delta = SwapVertexWithNewOneDelta(obj, solution, x[0], x[1])\n",
    "        if delta < minDelta:\n",
    "            minDelta = delta\n",
    "            resultSwap = (x[0], x[1])\n",
    "    return (minDelta, resultSwap)\n",
    "@jit\n",
    "def GreedySwap(solution, obj):\n",
    "    domain = np.array(range(200))\n",
    "    not_in_sol = domain[np.isin(domain, solution, invert=True)]\n",
    "    #pairs of index in current cycle - node \n",
    "    pairs = np.transpose([np.tile(domain[:100], 100), np.repeat(not_in_sol, 100)])\n",
    "    for x in pairs:\n",
    "        delta = SwapVertexWithNewOneDelta(obj, solution, x[0], x[1])\n",
    "        if delta < 0:\n",
    "            return (x[0], x[1])\n",
    "    return None\n",
    "print(MinInAllSwaps(random_solution(), obj))"
   ]
  },
  {
   "cell_type": "code",
   "execution_count": 20,
   "metadata": {},
   "outputs": [
    {
     "name": "stderr",
     "output_type": "stream",
     "text": [
      "/var/folders/vt/8kg_3c6554l1gb7hr4vbyjgr0000gn/T/ipykernel_35307/2515397583.py:2: NumbaDeprecationWarning: The 'nopython' keyword argument was not supplied to the 'numba.jit' decorator. The implicit default value for this argument is currently False, but it will be changed to True in Numba 0.59.0. See https://numba.readthedocs.io/en/stable/reference/deprecation.html#deprecation-of-object-mode-fall-back-behaviour-when-using-jit for details.\n",
      "  def SteepestLocalSearch(obj, dist, initial_solution, type):\n",
      "/opt/homebrew/lib/python3.10/site-packages/numba/core/object_mode_passes.py:151: NumbaWarning: Function \"SwapVertexWithNewOne\" was compiled in object mode without forceobj=True.\n",
      "\n",
      "File \"../../../../../../var/folders/vt/8kg_3c6554l1gb7hr4vbyjgr0000gn/T/ipykernel_35307/3288179290.py\", line 1:\n",
      "<source missing, REPL/exec in use?>\n",
      "\n",
      "  warnings.warn(errors.NumbaWarning(warn_msg,\n",
      "/opt/homebrew/lib/python3.10/site-packages/numba/core/object_mode_passes.py:161: NumbaDeprecationWarning: \n",
      "Fall-back from the nopython compilation path to the object mode compilation path has been detected. This is deprecated behaviour that will be removed in Numba 0.59.0.\n",
      "\n",
      "For more information visit https://numba.readthedocs.io/en/stable/reference/deprecation.html#deprecation-of-object-mode-fall-back-behaviour-when-using-jit\n",
      "\n",
      "File \"../../../../../../var/folders/vt/8kg_3c6554l1gb7hr4vbyjgr0000gn/T/ipykernel_35307/3288179290.py\", line 1:\n",
      "<source missing, REPL/exec in use?>\n",
      "\n",
      "  warnings.warn(errors.NumbaDeprecationWarning(msg,\n",
      "/var/folders/vt/8kg_3c6554l1gb7hr4vbyjgr0000gn/T/ipykernel_35307/2515397583.py:1: NumbaWarning: \n",
      "Compilation is falling back to object mode WITH looplifting enabled because Function \"SteepestLocalSearch\" failed type inference due to: Invalid use of type(CPUDispatcher(<function MinInAllSwaps at 0x1625b0430>)) with parameters (array(int64, 1d, C), array(int64, 2d, C))\n",
      "\n",
      "During: resolving callee type: type(CPUDispatcher(<function MinInAllSwaps at 0x1625b0430>))\n",
      "During: typing of call at /var/folders/vt/8kg_3c6554l1gb7hr4vbyjgr0000gn/T/ipykernel_35307/2515397583.py (7)\n",
      "\n",
      "\n",
      "File \"../../../../../../var/folders/vt/8kg_3c6554l1gb7hr4vbyjgr0000gn/T/ipykernel_35307/2515397583.py\", line 7:\n",
      "<source missing, REPL/exec in use?>\n",
      "\n",
      "  @jit\n",
      "/opt/homebrew/lib/python3.10/site-packages/numpy/core/fromnumeric.py:43: VisibleDeprecationWarning: Creating an ndarray from ragged nested sequences (which is a list-or-tuple of lists-or-tuples-or ndarrays with different lengths or shapes) is deprecated. If you meant to do this, you must specify 'dtype=object' when creating the ndarray.\n",
      "  result = getattr(asarray(obj), method)(*args, **kwds)\n",
      "/opt/homebrew/lib/python3.10/site-packages/numba/core/object_mode_passes.py:151: NumbaWarning: Function \"SteepestLocalSearch\" was compiled in object mode without forceobj=True.\n",
      "\n",
      "File \"../../../../../../var/folders/vt/8kg_3c6554l1gb7hr4vbyjgr0000gn/T/ipykernel_35307/2515397583.py\", line 1:\n",
      "<source missing, REPL/exec in use?>\n",
      "\n",
      "  warnings.warn(errors.NumbaWarning(warn_msg,\n",
      "/opt/homebrew/lib/python3.10/site-packages/numba/core/object_mode_passes.py:161: NumbaDeprecationWarning: \n",
      "Fall-back from the nopython compilation path to the object mode compilation path has been detected. This is deprecated behaviour that will be removed in Numba 0.59.0.\n",
      "\n",
      "For more information visit https://numba.readthedocs.io/en/stable/reference/deprecation.html#deprecation-of-object-mode-fall-back-behaviour-when-using-jit\n",
      "\n",
      "File \"../../../../../../var/folders/vt/8kg_3c6554l1gb7hr4vbyjgr0000gn/T/ipykernel_35307/2515397583.py\", line 1:\n",
      "<source missing, REPL/exec in use?>\n",
      "\n",
      "  warnings.warn(errors.NumbaDeprecationWarning(msg,\n",
      "/var/folders/vt/8kg_3c6554l1gb7hr4vbyjgr0000gn/T/ipykernel_35307/3288179290.py:9: NumbaWarning: \n",
      "Compilation is falling back to object mode WITHOUT looplifting enabled because Function \"MinInAllSwaps\" failed type inference due to: non-precise type array(pyobject, 1d, C)\n",
      "During: typing of argument at /var/folders/vt/8kg_3c6554l1gb7hr4vbyjgr0000gn/T/ipykernel_35307/3288179290.py (17)\n",
      "\n",
      "File \"../../../../../../var/folders/vt/8kg_3c6554l1gb7hr4vbyjgr0000gn/T/ipykernel_35307/3288179290.py\", line 17:\n",
      "<source missing, REPL/exec in use?>\n",
      "\n",
      "  @jit\n",
      "/opt/homebrew/lib/python3.10/site-packages/numba/core/object_mode_passes.py:151: NumbaWarning: Function \"MinInAllSwaps\" was compiled in object mode without forceobj=True.\n",
      "\n",
      "File \"../../../../../../var/folders/vt/8kg_3c6554l1gb7hr4vbyjgr0000gn/T/ipykernel_35307/3288179290.py\", line 17:\n",
      "<source missing, REPL/exec in use?>\n",
      "\n",
      "  warnings.warn(errors.NumbaWarning(warn_msg,\n",
      "/opt/homebrew/lib/python3.10/site-packages/numba/core/object_mode_passes.py:161: NumbaDeprecationWarning: \n",
      "Fall-back from the nopython compilation path to the object mode compilation path has been detected. This is deprecated behaviour that will be removed in Numba 0.59.0.\n",
      "\n",
      "For more information visit https://numba.readthedocs.io/en/stable/reference/deprecation.html#deprecation-of-object-mode-fall-back-behaviour-when-using-jit\n",
      "\n",
      "File \"../../../../../../var/folders/vt/8kg_3c6554l1gb7hr4vbyjgr0000gn/T/ipykernel_35307/3288179290.py\", line 17:\n",
      "<source missing, REPL/exec in use?>\n",
      "\n",
      "  warnings.warn(errors.NumbaDeprecationWarning(msg,\n",
      "/opt/homebrew/lib/python3.10/site-packages/numpy/core/fromnumeric.py:43: VisibleDeprecationWarning: Creating an ndarray from ragged nested sequences (which is a list-or-tuple of lists-or-tuples-or ndarrays with different lengths or shapes) is deprecated. If you meant to do this, you must specify 'dtype=object' when creating the ndarray.\n",
      "  result = getattr(asarray(obj), method)(*args, **kwds)\n",
      "/opt/homebrew/lib/python3.10/site-packages/numpy/core/fromnumeric.py:43: VisibleDeprecationWarning: Creating an ndarray from ragged nested sequences (which is a list-or-tuple of lists-or-tuples-or ndarrays with different lengths or shapes) is deprecated. If you meant to do this, you must specify 'dtype=object' when creating the ndarray.\n",
      "  result = getattr(asarray(obj), method)(*args, **kwds)\n"
     ]
    },
    {
     "data": {
      "text/plain": [
       "array([178, 164,  34,  40, 118, 128, 132,  37, 143, 159,  59,  96, 147,\n",
       "        27, 116,  46, 185, 181,  25,  64,  20,  71, 183,  61, 113, 163,\n",
       "        74,  62, 155, 195,  36, 136,  54,  55,  22, 117,  53,  15, 108,\n",
       "       171,  81, 154, 141,   6,  66,  98, 190,  72, 112,   5,  51, 135,\n",
       "       101, 167,  99, 139, 110, 169,  95, 191,  31,  73,  94,  89, 111,\n",
       "       197,  14,  80, 123, 124,   8, 125,  26, 119, 130,  92,  48, 152,\n",
       "       189,  75, 177, 199,  77,   4, 114, 153,  88, 186, 194,  79,  21,\n",
       "        76,   0, 149,  91,  50, 121,  43,  35,  19, 178])"
      ]
     },
     "execution_count": 20,
     "metadata": {},
     "output_type": "execute_result"
    }
   ],
   "source": [
    "@jit\n",
    "def SteepestLocalSearch(obj, dist, initial_solution, type):\n",
    "    current_solution = initial_solution\n",
    "    max_iter = 1_000_000\n",
    "    while(max_iter > 0):\n",
    "        # print(current_cost)\n",
    "        best_swap_val, best_swap = MinInAllSwaps(current_solution, obj)\n",
    "        if type == 'edge':\n",
    "            best_exchange_val, best_exchange = MinInAllExchangedEdges(dist, current_solution)\n",
    "        else:\n",
    "            best_exchange_val, best_exchange = MinInAllExchangedVertices(dist, current_solution)\n",
    "        \n",
    "        if best_swap_val >= 0 and best_exchange_val >= 0:\n",
    "            break\n",
    "\n",
    "        if best_swap_val < best_exchange_val:\n",
    "            current_solution = SwapVertexWithNewOne(current_solution, best_swap[0], best_swap[1])\n",
    "            # print('swap' + str(best_swap_val))\n",
    "        elif type == 'edge':\n",
    "            current_solution = ExchangeEdges(current_solution, best_exchange[0], best_exchange[1])\n",
    "            # print('exchange ' + str(best_exchange_val) + str(best_exchange))\n",
    "        else:\n",
    "            current_solution = ExchangeVertices(current_solution, best_exchange[0], best_exchange[1])\n",
    "            # print('exchange ' + str(best_exchange_val) + str(best_exchange))\n",
    "\n",
    "        max_iter -= 1\n",
    "    return current_solution\n",
    "        \n",
    "SteepestLocalSearch(obj, dist, random_solution(), 'edge')"
   ]
  },
  {
   "cell_type": "code",
   "execution_count": 40,
   "metadata": {},
   "outputs": [],
   "source": [
    "@lru_cache(maxsize=1_000_000)\n",
    "def addition_cost(graph, triplet):\n",
    "    return graph.objective[triplet[0], triplet[1]] + graph.objective[triplet[1], triplet[2]] - graph.objective[triplet[0], triplet[2]]"
   ]
  },
  {
   "cell_type": "code",
   "execution_count": 123,
   "metadata": {},
   "outputs": [
    {
     "name": "stderr",
     "output_type": "stream",
     "text": [
      "/var/folders/vt/8kg_3c6554l1gb7hr4vbyjgr0000gn/T/ipykernel_35307/256898679.py:2: NumbaDeprecationWarning: The 'nopython' keyword argument was not supplied to the 'numba.jit' decorator. The implicit default value for this argument is currently False, but it will be changed to True in Numba 0.59.0. See https://numba.readthedocs.io/en/stable/reference/deprecation.html#deprecation-of-object-mode-fall-back-behaviour-when-using-jit for details.\n",
      "  def getRegret2Weighted(graph, cycle):\n"
     ]
    }
   ],
   "source": [
    "@jit\n",
    "def getRegret2Weighted(graph, cycle):\n",
    "    candidates = np.delete(np.arange(200), cycle)\n",
    "    costs = [-9999999] * 200\n",
    "    solutions = [0] * 200\n",
    "    weigth = 0.61\n",
    "    scores = [-9999999] * 200\n",
    "    temporaryCost = graph.cycle_cost(cycle)\n",
    "    for candidate in candidates:\n",
    "        currentCosts = []\n",
    "        currentSolutions = []\n",
    "        for i in range(len(cycle) - 1):\n",
    "            currentCosts.append(graph.cycle_cost(cycle) + addition_cost(graph,(cycle[i],candidate,cycle[i+1])))\n",
    "            currentSolutions.append(np.concatenate((cycle[:i + 1],np.array([candidate]).reshape((1,)), cycle[i + 1:])))\n",
    "        firstBestId = np.argmin(currentCosts)\n",
    "        firstBestCost = currentCosts[firstBestId]\n",
    "        currentCosts = np.delete(currentCosts, firstBestId)\n",
    "        secondBestId = np.argmin(currentCosts)\n",
    "        secondBestCost = currentCosts[secondBestId]\n",
    "        bestSolution = currentSolutions[firstBestId]\n",
    "\n",
    "        newTemporaryCost = graph.cycle_cost(bestSolution)\n",
    "        difference = newTemporaryCost - temporaryCost\n",
    "        scores[candidate] = weigth * (secondBestCost - firstBestCost) - (1 - weigth) * difference\n",
    "        costs[candidate] = newTemporaryCost\n",
    "        solutions[candidate] = bestSolution\n",
    "\n",
    "    bestRegretId = np.argmax(scores)\n",
    "    cycle = solutions[bestRegretId]\n",
    "    temporaryCost = costs[bestRegretId]\n",
    "\n",
    "    return cycle"
   ]
  },
  {
   "cell_type": "code",
   "execution_count": 133,
   "metadata": {},
   "outputs": [
    {
     "name": "stderr",
     "output_type": "stream",
     "text": [
      "/var/folders/vt/8kg_3c6554l1gb7hr4vbyjgr0000gn/T/ipykernel_35307/1079767723.py:2: NumbaDeprecationWarning: The 'nopython' keyword argument was not supplied to the 'numba.jit' decorator. The implicit default value for this argument is currently False, but it will be changed to True in Numba 0.59.0. See https://numba.readthedocs.io/en/stable/reference/deprecation.html#deprecation-of-object-mode-fall-back-behaviour-when-using-jit for details.\n",
      "  def destroyCycle(solution):\n"
     ]
    }
   ],
   "source": [
    "@jit\n",
    "def destroyCycle(solution):\n",
    "  numberOfNodesToDestroy = np.random.randint(5, 36)\n",
    "  nodesToDestroy = [np.random.randint(1, 101) for i in range(numberOfNodesToDestroy)]\n",
    "\n",
    "  for i in nodesToDestroy:\n",
    "    solution[i] = -1\n",
    "\n",
    "  return solution"
   ]
  },
  {
   "cell_type": "code",
   "execution_count": 125,
   "metadata": {},
   "outputs": [
    {
     "name": "stderr",
     "output_type": "stream",
     "text": [
      "/var/folders/vt/8kg_3c6554l1gb7hr4vbyjgr0000gn/T/ipykernel_35307/1834971898.py:2: NumbaDeprecationWarning: The 'nopython' keyword argument was not supplied to the 'numba.jit' decorator. The implicit default value for this argument is currently False, but it will be changed to True in Numba 0.59.0. See https://numba.readthedocs.io/en/stable/reference/deprecation.html#deprecation-of-object-mode-fall-back-behaviour-when-using-jit for details.\n",
      "  def repairCycle(graph, cycle):\n"
     ]
    }
   ],
   "source": [
    "@jit\n",
    "def repairCycle(graph, cycle):\n",
    "  cycle = [node for node in cycle if node != -1]\n",
    "\n",
    "  while(len(cycle) < 101):\n",
    "    cycle = getRegret2Weighted(graph, cycle)\n",
    "\n",
    "  return cycle"
   ]
  },
  {
   "cell_type": "code",
   "execution_count": 100,
   "metadata": {},
   "outputs": [],
   "source": [
    "def LNS(obj, dist, timeLimit, graph):\n",
    "  bestSolution = SteepestLocalSearch(obj, dist, random_solution(), 'edge')\n",
    "  timeout = time.time() + timeLimit\n",
    "\n",
    "  while(time.time() < timeout):\n",
    "    newSolution = destroyCycle(bestSolution)\n",
    "    newSolution = repairCycle(graph, newSolution)\n",
    "\n",
    "    if graph.cycle_cost(newSolution) < graph.cycle_cost(bestSolution):\n",
    "      bestSolution = newSolution\n",
    "\n",
    "  return bestSolution, graph.cycle_cost(bestSolution)"
   ]
  },
  {
   "cell_type": "code",
   "execution_count": 117,
   "metadata": {},
   "outputs": [],
   "source": [
    "def LNSExperiment(obj, dist, graph):\n",
    "  solutions = []\n",
    "  costs = []\n",
    "  for i in range(20):\n",
    "    bestSolution, bestCost = LNS(obj, dist, 10, graph)\n",
    "    solutions.append(bestSolution)\n",
    "    costs.append(bestCost)\n",
    "  return solutions, costs"
   ]
  },
  {
   "cell_type": "code",
   "execution_count": 108,
   "metadata": {},
   "outputs": [],
   "source": [
    "def LNSWithLocalSearch(obj, dist, timeLimit, graph):\n",
    "  bestSolution = SteepestLocalSearch(obj, dist, random_solution(), 'edge')\n",
    "  timeout = time.time() + timeLimit\n",
    "\n",
    "  while(time.time() < timeout):\n",
    "    newSolution = destroyCycle(bestSolution)\n",
    "    newSolution = repairCycle(graph, newSolution)\n",
    "    newSolution = SteepestLocalSearch(obj, dist, newSolution, 'edge')\n",
    "\n",
    "    if graph.cycle_cost(newSolution) < graph.cycle_cost(bestSolution):\n",
    "      bestSolution = newSolution\n",
    "\n",
    "  return bestSolution, graph.cycle_cost(bestSolution)"
   ]
  },
  {
   "cell_type": "code",
   "execution_count": 118,
   "metadata": {},
   "outputs": [],
   "source": [
    "def LNSExperimentWithLocalSearch(obj, dist, graph):\n",
    "  solutions = []\n",
    "  costs = []\n",
    "  for i in range(20):\n",
    "    bestSolution, bestCost = LNSWithLocalSearch(obj, dist, 140, graph)\n",
    "    solutions.append(bestSolution)\n",
    "    costs.append(bestCost)\n",
    "  return solutions, costs"
   ]
  },
  {
   "cell_type": "code",
   "execution_count": 119,
   "metadata": {},
   "outputs": [
    {
     "name": "stderr",
     "output_type": "stream",
     "text": [
      "/opt/homebrew/lib/python3.10/site-packages/numpy/core/fromnumeric.py:43: VisibleDeprecationWarning: Creating an ndarray from ragged nested sequences (which is a list-or-tuple of lists-or-tuples-or ndarrays with different lengths or shapes) is deprecated. If you meant to do this, you must specify 'dtype=object' when creating the ndarray.\n",
      "  result = getattr(asarray(obj), method)(*args, **kwds)\n"
     ]
    }
   ],
   "source": [
    "graph = Graph('C')\n",
    "\n",
    "solutionsC, costsC = LNSExperiment(graph.objective, graph.dist_matrix, graph)"
   ]
  },
  {
   "cell_type": "code",
   "execution_count": 141,
   "metadata": {},
   "outputs": [
    {
     "name": "stdout",
     "output_type": "stream",
     "text": [
      "48464 50799 49496.85 49458.5\n"
     ]
    }
   ],
   "source": [
    "print(np.min(costsC), np.max(costsC), np.mean(costsC), np.median(costsC))"
   ]
  },
  {
   "cell_type": "code",
   "execution_count": 121,
   "metadata": {},
   "outputs": [
    {
     "name": "stderr",
     "output_type": "stream",
     "text": [
      "/opt/homebrew/lib/python3.10/site-packages/numpy/core/fromnumeric.py:43: VisibleDeprecationWarning: Creating an ndarray from ragged nested sequences (which is a list-or-tuple of lists-or-tuples-or ndarrays with different lengths or shapes) is deprecated. If you meant to do this, you must specify 'dtype=object' when creating the ndarray.\n",
      "  result = getattr(asarray(obj), method)(*args, **kwds)\n"
     ]
    }
   ],
   "source": [
    "graph = Graph('C')\n",
    "\n",
    "solutionsLocalSearchC, costsLocalSearchC = LNSExperimentWithLocalSearch(graph.objective, graph.dist_matrix, graph)"
   ]
  },
  {
   "cell_type": "code",
   "execution_count": 140,
   "metadata": {},
   "outputs": [
    {
     "name": "stdout",
     "output_type": "stream",
     "text": [
      "47587 50257 49179.1 49256.0\n"
     ]
    }
   ],
   "source": [
    "print(np.min(costsLocalSearchC), np.max(costsLocalSearchC), np.mean(costsLocalSearchC), np.median(costsLocalSearchC))"
   ]
  },
  {
   "cell_type": "code",
   "execution_count": 128,
   "metadata": {},
   "outputs": [
    {
     "name": "stderr",
     "output_type": "stream",
     "text": [
      "/var/folders/vt/8kg_3c6554l1gb7hr4vbyjgr0000gn/T/ipykernel_35307/1834971898.py:1: NumbaWarning: \n",
      "Compilation is falling back to object mode WITH looplifting enabled because Function \"repairCycle\" failed type inference due to: non-precise type pyobject\n",
      "During: typing of argument at /var/folders/vt/8kg_3c6554l1gb7hr4vbyjgr0000gn/T/ipykernel_35307/1834971898.py (1)\n",
      "\n",
      "File \"../../../../../../var/folders/vt/8kg_3c6554l1gb7hr4vbyjgr0000gn/T/ipykernel_35307/1834971898.py\", line 1:\n",
      "<source missing, REPL/exec in use?>\n",
      "\n",
      "  @jit\n",
      "/opt/homebrew/lib/python3.10/site-packages/numba/core/object_mode_passes.py:151: NumbaWarning: Function \"repairCycle\" was compiled in object mode without forceobj=True.\n",
      "\n",
      "File \"../../../../../../var/folders/vt/8kg_3c6554l1gb7hr4vbyjgr0000gn/T/ipykernel_35307/1834971898.py\", line 1:\n",
      "<source missing, REPL/exec in use?>\n",
      "\n",
      "  warnings.warn(errors.NumbaWarning(warn_msg,\n",
      "/opt/homebrew/lib/python3.10/site-packages/numba/core/object_mode_passes.py:161: NumbaDeprecationWarning: \n",
      "Fall-back from the nopython compilation path to the object mode compilation path has been detected. This is deprecated behaviour that will be removed in Numba 0.59.0.\n",
      "\n",
      "For more information visit https://numba.readthedocs.io/en/stable/reference/deprecation.html#deprecation-of-object-mode-fall-back-behaviour-when-using-jit\n",
      "\n",
      "File \"../../../../../../var/folders/vt/8kg_3c6554l1gb7hr4vbyjgr0000gn/T/ipykernel_35307/1834971898.py\", line 1:\n",
      "<source missing, REPL/exec in use?>\n",
      "\n",
      "  warnings.warn(errors.NumbaDeprecationWarning(msg,\n",
      "/var/folders/vt/8kg_3c6554l1gb7hr4vbyjgr0000gn/T/ipykernel_35307/256898679.py:1: NumbaWarning: \n",
      "Compilation is falling back to object mode WITH looplifting enabled because Function \"getRegret2Weighted\" failed type inference due to: Untyped global name 'addition_cost': Cannot determine Numba type of <class 'functools._lru_cache_wrapper'>\n",
      "\n",
      "File \"../../../../../../var/folders/vt/8kg_3c6554l1gb7hr4vbyjgr0000gn/T/ipykernel_35307/256898679.py\", line 13:\n",
      "<source missing, REPL/exec in use?>\n",
      "\n",
      "  @jit\n",
      "/var/folders/vt/8kg_3c6554l1gb7hr4vbyjgr0000gn/T/ipykernel_35307/256898679.py:1: NumbaWarning: \n",
      "Compilation is falling back to object mode WITHOUT looplifting enabled because Function \"getRegret2Weighted\" failed type inference due to: Cannot determine Numba type of <class 'numba.core.dispatcher.LiftedLoop'>\n",
      "\n",
      "File \"../../../../../../var/folders/vt/8kg_3c6554l1gb7hr4vbyjgr0000gn/T/ipykernel_35307/256898679.py\", line 9:\n",
      "<source missing, REPL/exec in use?>\n",
      "\n",
      "  @jit\n",
      "/opt/homebrew/lib/python3.10/site-packages/numba/core/object_mode_passes.py:151: NumbaWarning: Function \"getRegret2Weighted\" was compiled in object mode without forceobj=True, but has lifted loops.\n",
      "\n",
      "File \"../../../../../../var/folders/vt/8kg_3c6554l1gb7hr4vbyjgr0000gn/T/ipykernel_35307/256898679.py\", line 1:\n",
      "<source missing, REPL/exec in use?>\n",
      "\n",
      "  warnings.warn(errors.NumbaWarning(warn_msg,\n",
      "/opt/homebrew/lib/python3.10/site-packages/numba/core/object_mode_passes.py:161: NumbaDeprecationWarning: \n",
      "Fall-back from the nopython compilation path to the object mode compilation path has been detected. This is deprecated behaviour that will be removed in Numba 0.59.0.\n",
      "\n",
      "For more information visit https://numba.readthedocs.io/en/stable/reference/deprecation.html#deprecation-of-object-mode-fall-back-behaviour-when-using-jit\n",
      "\n",
      "File \"../../../../../../var/folders/vt/8kg_3c6554l1gb7hr4vbyjgr0000gn/T/ipykernel_35307/256898679.py\", line 1:\n",
      "<source missing, REPL/exec in use?>\n",
      "\n",
      "  warnings.warn(errors.NumbaDeprecationWarning(msg,\n",
      "/var/folders/vt/8kg_3c6554l1gb7hr4vbyjgr0000gn/T/ipykernel_35307/256898679.py:1: NumbaWarning: \n",
      "Compilation is falling back to object mode WITHOUT looplifting enabled because Function \"getRegret2Weighted\" failed type inference due to: Untyped global name 'addition_cost': Cannot determine Numba type of <class 'functools._lru_cache_wrapper'>\n",
      "\n",
      "File \"../../../../../../var/folders/vt/8kg_3c6554l1gb7hr4vbyjgr0000gn/T/ipykernel_35307/256898679.py\", line 13:\n",
      "<source missing, REPL/exec in use?>\n",
      "\n",
      "  @jit\n",
      "/opt/homebrew/lib/python3.10/site-packages/numba/core/object_mode_passes.py:151: NumbaWarning: Function \"getRegret2Weighted\" was compiled in object mode without forceobj=True.\n",
      "\n",
      "File \"../../../../../../var/folders/vt/8kg_3c6554l1gb7hr4vbyjgr0000gn/T/ipykernel_35307/256898679.py\", line 9:\n",
      "<source missing, REPL/exec in use?>\n",
      "\n",
      "  warnings.warn(errors.NumbaWarning(warn_msg,\n",
      "/opt/homebrew/lib/python3.10/site-packages/numba/core/object_mode_passes.py:161: NumbaDeprecationWarning: \n",
      "Fall-back from the nopython compilation path to the object mode compilation path has been detected. This is deprecated behaviour that will be removed in Numba 0.59.0.\n",
      "\n",
      "For more information visit https://numba.readthedocs.io/en/stable/reference/deprecation.html#deprecation-of-object-mode-fall-back-behaviour-when-using-jit\n",
      "\n",
      "File \"../../../../../../var/folders/vt/8kg_3c6554l1gb7hr4vbyjgr0000gn/T/ipykernel_35307/256898679.py\", line 9:\n",
      "<source missing, REPL/exec in use?>\n",
      "\n",
      "  warnings.warn(errors.NumbaDeprecationWarning(msg,\n",
      "/var/folders/vt/8kg_3c6554l1gb7hr4vbyjgr0000gn/T/ipykernel_35307/256898679.py:1: NumbaWarning: \n",
      "Compilation is falling back to object mode WITH looplifting enabled because Function \"getRegret2Weighted\" failed type inference due to: Untyped global name 'addition_cost': Cannot determine Numba type of <class 'functools._lru_cache_wrapper'>\n",
      "\n",
      "File \"../../../../../../var/folders/vt/8kg_3c6554l1gb7hr4vbyjgr0000gn/T/ipykernel_35307/256898679.py\", line 13:\n",
      "<source missing, REPL/exec in use?>\n",
      "\n",
      "  @jit\n",
      "/var/folders/vt/8kg_3c6554l1gb7hr4vbyjgr0000gn/T/ipykernel_35307/256898679.py:1: NumbaWarning: \n",
      "Compilation is falling back to object mode WITHOUT looplifting enabled because Function \"getRegret2Weighted\" failed type inference due to: Cannot determine Numba type of <class 'numba.core.dispatcher.LiftedLoop'>\n",
      "\n",
      "File \"../../../../../../var/folders/vt/8kg_3c6554l1gb7hr4vbyjgr0000gn/T/ipykernel_35307/256898679.py\", line 9:\n",
      "<source missing, REPL/exec in use?>\n",
      "\n",
      "  @jit\n",
      "/opt/homebrew/lib/python3.10/site-packages/numba/core/object_mode_passes.py:151: NumbaWarning: Function \"getRegret2Weighted\" was compiled in object mode without forceobj=True, but has lifted loops.\n",
      "\n",
      "File \"../../../../../../var/folders/vt/8kg_3c6554l1gb7hr4vbyjgr0000gn/T/ipykernel_35307/256898679.py\", line 1:\n",
      "<source missing, REPL/exec in use?>\n",
      "\n",
      "  warnings.warn(errors.NumbaWarning(warn_msg,\n",
      "/opt/homebrew/lib/python3.10/site-packages/numba/core/object_mode_passes.py:161: NumbaDeprecationWarning: \n",
      "Fall-back from the nopython compilation path to the object mode compilation path has been detected. This is deprecated behaviour that will be removed in Numba 0.59.0.\n",
      "\n",
      "For more information visit https://numba.readthedocs.io/en/stable/reference/deprecation.html#deprecation-of-object-mode-fall-back-behaviour-when-using-jit\n",
      "\n",
      "File \"../../../../../../var/folders/vt/8kg_3c6554l1gb7hr4vbyjgr0000gn/T/ipykernel_35307/256898679.py\", line 1:\n",
      "<source missing, REPL/exec in use?>\n",
      "\n",
      "  warnings.warn(errors.NumbaDeprecationWarning(msg,\n",
      "/var/folders/vt/8kg_3c6554l1gb7hr4vbyjgr0000gn/T/ipykernel_35307/256898679.py:1: NumbaWarning: \n",
      "Compilation is falling back to object mode WITHOUT looplifting enabled because Function \"getRegret2Weighted\" failed type inference due to: Untyped global name 'addition_cost': Cannot determine Numba type of <class 'functools._lru_cache_wrapper'>\n",
      "\n",
      "File \"../../../../../../var/folders/vt/8kg_3c6554l1gb7hr4vbyjgr0000gn/T/ipykernel_35307/256898679.py\", line 13:\n",
      "<source missing, REPL/exec in use?>\n",
      "\n",
      "  @jit\n",
      "/opt/homebrew/lib/python3.10/site-packages/numba/core/object_mode_passes.py:151: NumbaWarning: Function \"getRegret2Weighted\" was compiled in object mode without forceobj=True.\n",
      "\n",
      "File \"../../../../../../var/folders/vt/8kg_3c6554l1gb7hr4vbyjgr0000gn/T/ipykernel_35307/256898679.py\", line 9:\n",
      "<source missing, REPL/exec in use?>\n",
      "\n",
      "  warnings.warn(errors.NumbaWarning(warn_msg,\n",
      "/opt/homebrew/lib/python3.10/site-packages/numba/core/object_mode_passes.py:161: NumbaDeprecationWarning: \n",
      "Fall-back from the nopython compilation path to the object mode compilation path has been detected. This is deprecated behaviour that will be removed in Numba 0.59.0.\n",
      "\n",
      "For more information visit https://numba.readthedocs.io/en/stable/reference/deprecation.html#deprecation-of-object-mode-fall-back-behaviour-when-using-jit\n",
      "\n",
      "File \"../../../../../../var/folders/vt/8kg_3c6554l1gb7hr4vbyjgr0000gn/T/ipykernel_35307/256898679.py\", line 9:\n",
      "<source missing, REPL/exec in use?>\n",
      "\n",
      "  warnings.warn(errors.NumbaDeprecationWarning(msg,\n",
      "/opt/homebrew/lib/python3.10/site-packages/numpy/core/fromnumeric.py:43: VisibleDeprecationWarning: Creating an ndarray from ragged nested sequences (which is a list-or-tuple of lists-or-tuples-or ndarrays with different lengths or shapes) is deprecated. If you meant to do this, you must specify 'dtype=object' when creating the ndarray.\n",
      "  result = getattr(asarray(obj), method)(*args, **kwds)\n"
     ]
    }
   ],
   "source": [
    "graph = Graph('D')\n",
    "\n",
    "solutionsD, costsD = LNSExperiment(graph.objective, graph.dist_matrix, graph)"
   ]
  },
  {
   "cell_type": "code",
   "execution_count": 137,
   "metadata": {},
   "outputs": [
    {
     "name": "stdout",
     "output_type": "stream",
     "text": [
      "44290 47145 45929.9 45885.5\n"
     ]
    }
   ],
   "source": [
    "print(np.min(costsD), np.max(costsD), np.mean(costsD), np.median(costsD))"
   ]
  },
  {
   "cell_type": "code",
   "execution_count": 139,
   "metadata": {},
   "outputs": [
    {
     "ename": "KeyboardInterrupt",
     "evalue": "",
     "output_type": "error",
     "traceback": [
      "\u001b[0;31m---------------------------------------------------------------------------\u001b[0m",
      "\u001b[0;31mKeyboardInterrupt\u001b[0m                         Traceback (most recent call last)",
      "\u001b[1;32m/Users/mateugazi/Documents/Studies/evolutionary-computation/Evolutionary-Computation/Assignment7.ipynb Cell 23\u001b[0m line \u001b[0;36m3\n\u001b[1;32m      <a href='vscode-notebook-cell:/Users/mateugazi/Documents/Studies/evolutionary-computation/Evolutionary-Computation/Assignment7.ipynb#X61sZmlsZQ%3D%3D?line=0'>1</a>\u001b[0m graph \u001b[39m=\u001b[39m Graph(\u001b[39m'\u001b[39m\u001b[39mD\u001b[39m\u001b[39m'\u001b[39m)\n\u001b[0;32m----> <a href='vscode-notebook-cell:/Users/mateugazi/Documents/Studies/evolutionary-computation/Evolutionary-Computation/Assignment7.ipynb#X61sZmlsZQ%3D%3D?line=2'>3</a>\u001b[0m solutionsLocalSearchD, costsLocalSearchD \u001b[39m=\u001b[39m LNSExperimentWithLocalSearch(graph\u001b[39m.\u001b[39;49mobjective, graph\u001b[39m.\u001b[39;49mdist_matrix, graph)\n",
      "\u001b[1;32m/Users/mateugazi/Documents/Studies/evolutionary-computation/Evolutionary-Computation/Assignment7.ipynb Cell 23\u001b[0m line \u001b[0;36m6\n\u001b[1;32m      <a href='vscode-notebook-cell:/Users/mateugazi/Documents/Studies/evolutionary-computation/Evolutionary-Computation/Assignment7.ipynb#X61sZmlsZQ%3D%3D?line=3'>4</a>\u001b[0m numberOfIterations \u001b[39m=\u001b[39m []\n\u001b[1;32m      <a href='vscode-notebook-cell:/Users/mateugazi/Documents/Studies/evolutionary-computation/Evolutionary-Computation/Assignment7.ipynb#X61sZmlsZQ%3D%3D?line=4'>5</a>\u001b[0m \u001b[39mfor\u001b[39;00m i \u001b[39min\u001b[39;00m \u001b[39mrange\u001b[39m(\u001b[39m20\u001b[39m):\n\u001b[0;32m----> <a href='vscode-notebook-cell:/Users/mateugazi/Documents/Studies/evolutionary-computation/Evolutionary-Computation/Assignment7.ipynb#X61sZmlsZQ%3D%3D?line=5'>6</a>\u001b[0m   bestSolution, bestCost, iterations \u001b[39m=\u001b[39m LNSWithLocalSearch(obj, dist, \u001b[39m140\u001b[39;49m, graph)\n\u001b[1;32m      <a href='vscode-notebook-cell:/Users/mateugazi/Documents/Studies/evolutionary-computation/Evolutionary-Computation/Assignment7.ipynb#X61sZmlsZQ%3D%3D?line=6'>7</a>\u001b[0m   solutions\u001b[39m.\u001b[39mappend(bestSolution)\n\u001b[1;32m      <a href='vscode-notebook-cell:/Users/mateugazi/Documents/Studies/evolutionary-computation/Evolutionary-Computation/Assignment7.ipynb#X61sZmlsZQ%3D%3D?line=7'>8</a>\u001b[0m   costs\u001b[39m.\u001b[39mappend(bestCost)\n",
      "\u001b[1;32m/Users/mateugazi/Documents/Studies/evolutionary-computation/Evolutionary-Computation/Assignment7.ipynb Cell 23\u001b[0m line \u001b[0;36m8\n\u001b[1;32m      <a href='vscode-notebook-cell:/Users/mateugazi/Documents/Studies/evolutionary-computation/Evolutionary-Computation/Assignment7.ipynb#X61sZmlsZQ%3D%3D?line=5'>6</a>\u001b[0m \u001b[39mwhile\u001b[39;00m(time\u001b[39m.\u001b[39mtime() \u001b[39m<\u001b[39m timeout):\n\u001b[1;32m      <a href='vscode-notebook-cell:/Users/mateugazi/Documents/Studies/evolutionary-computation/Evolutionary-Computation/Assignment7.ipynb#X61sZmlsZQ%3D%3D?line=6'>7</a>\u001b[0m   newSolution \u001b[39m=\u001b[39m destroyCycle(bestSolution)\n\u001b[0;32m----> <a href='vscode-notebook-cell:/Users/mateugazi/Documents/Studies/evolutionary-computation/Evolutionary-Computation/Assignment7.ipynb#X61sZmlsZQ%3D%3D?line=7'>8</a>\u001b[0m   newSolution \u001b[39m=\u001b[39m repairCycle(graph, newSolution)\n\u001b[1;32m      <a href='vscode-notebook-cell:/Users/mateugazi/Documents/Studies/evolutionary-computation/Evolutionary-Computation/Assignment7.ipynb#X61sZmlsZQ%3D%3D?line=8'>9</a>\u001b[0m   newSolution \u001b[39m=\u001b[39m SteepestLocalSearch(obj, dist, newSolution, \u001b[39m'\u001b[39m\u001b[39medge\u001b[39m\u001b[39m'\u001b[39m)\n\u001b[1;32m     <a href='vscode-notebook-cell:/Users/mateugazi/Documents/Studies/evolutionary-computation/Evolutionary-Computation/Assignment7.ipynb#X61sZmlsZQ%3D%3D?line=9'>10</a>\u001b[0m   iterations \u001b[39m+\u001b[39m\u001b[39m=\u001b[39m \u001b[39m1\u001b[39m\n",
      "File \u001b[0;32m~/Documents/Studies/evolutionary-computation/Evolutionary-Computation/TSPGraph.py:24\u001b[0m, in \u001b[0;36mGraph.cycle_cost\u001b[0;34m(self, cycle)\u001b[0m\n\u001b[1;32m     22\u001b[0m \u001b[39mdef\u001b[39;00m \u001b[39mcycle_cost\u001b[39m(\u001b[39mself\u001b[39m, cycle):\n\u001b[1;32m     23\u001b[0m     cycle_segments \u001b[39m=\u001b[39m (cycle[:\u001b[39m-\u001b[39m\u001b[39m1\u001b[39m], cycle[\u001b[39m1\u001b[39m:])\n\u001b[0;32m---> 24\u001b[0m     \u001b[39mreturn\u001b[39;00m np\u001b[39m.\u001b[39;49msum(\u001b[39mself\u001b[39;49m\u001b[39m.\u001b[39;49mobjective[cycle_segments])\n",
      "File \u001b[0;32m<__array_function__ internals>:177\u001b[0m, in \u001b[0;36msum\u001b[0;34m(*args, **kwargs)\u001b[0m\n",
      "\u001b[0;31mKeyboardInterrupt\u001b[0m: "
     ]
    }
   ],
   "source": [
    "graph = Graph('D')\n",
    "\n",
    "solutionsLocalSearchD, costsLocalSearchD = LNSExperimentWithLocalSearch(graph.objective, graph.dist_matrix, graph)"
   ]
  },
  {
   "cell_type": "code",
   "execution_count": 138,
   "metadata": {},
   "outputs": [
    {
     "name": "stdout",
     "output_type": "stream",
     "text": [
      "44235 48872 46221.1 46250.5\n"
     ]
    }
   ],
   "source": [
    "print(np.min(costsLocalSearchD), np.max(costsLocalSearchD), np.mean(costsLocalSearchD), np.median(costsLocalSearchD))"
   ]
  }
 ],
 "metadata": {
  "kernelspec": {
   "display_name": "Python 3",
   "language": "python",
   "name": "python3"
  },
  "language_info": {
   "codemirror_mode": {
    "name": "ipython",
    "version": 3
   },
   "file_extension": ".py",
   "mimetype": "text/x-python",
   "name": "python",
   "nbconvert_exporter": "python",
   "pygments_lexer": "ipython3",
   "version": "3.10.7"
  }
 },
 "nbformat": 4,
 "nbformat_minor": 2
}
