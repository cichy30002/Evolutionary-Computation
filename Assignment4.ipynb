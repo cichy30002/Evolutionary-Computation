{
 "cells": [
  {
   "cell_type": "code",
   "execution_count": 1,
   "metadata": {},
   "outputs": [],
   "source": [
    "from TSPGraph import Graph\n",
    "import numpy as np\n",
    "from functools import lru_cache\n",
    "import copy\n",
    "from tqdm import tqdm\n",
    "from multiprocessing import Pool"
   ]
  },
  {
   "cell_type": "code",
   "execution_count": 2,
   "metadata": {},
   "outputs": [],
   "source": [
    "def random_solution():\n",
    "    sol = np.random.choice(np.arange(200),size=100,replace=False)\n",
    "    return np.append(sol,sol[0])"
   ]
  },
  {
   "cell_type": "code",
   "execution_count": 3,
   "metadata": {},
   "outputs": [],
   "source": [
    "combination_pairs = [(x,y) for x in range(1,100) for y in range(x+2, 100)]\n",
    "combination_pairs_edges = [(x,y) for x in range(1,100) for y in range(x+2, 100)]"
   ]
  },
  {
   "cell_type": "code",
   "execution_count": 4,
   "metadata": {},
   "outputs": [],
   "source": [
    "def ExchangeVerticesDelta(graph, solution, newNode, i):\n",
    "    prevVertex = solution[i - 1]\n",
    "    nextVertex = solution[(i + 1) % len(solution)]\n",
    "\n",
    "    costOut = graph.dist_matrix[prevVertex][solution[i]] + graph.dist_matrix[solution[i]][nextVertex]\n",
    "    \n",
    "    costIn = graph.dist_matrix[prevVertex][newNode] + graph.dist_matrix[newNode][nextVertex]\n",
    "\n",
    "    return costIn - costOut\n",
    "\n",
    "def exchangeVerticesDeltaNoSwap(graph, solution, newNode, i):\n",
    "    prevVertex = solution[i - 1]\n",
    "    nextVertex = solution[(i + 1) % len(solution)]\n",
    "\n",
    "    costOut = graph.dist_matrix[prevVertex][solution[i]] + graph.dist_matrix[solution[i]][nextVertex]\n",
    "\n",
    "    incomingVertex = solution[(i + 2) % len(solution)]\n",
    "    costOut += graph.dist_matrix[nextVertex][incomingVertex]\n",
    "    costIn = graph.dist_matrix[prevVertex][nextVertex] + graph.dist_matrix[nextVertex][newNode] + (\n",
    "        graph.dist_matrix[newNode][incomingVertex]\n",
    "    )\n",
    "\n",
    "    return costIn - costOut"
   ]
  },
  {
   "cell_type": "code",
   "execution_count": 5,
   "metadata": {},
   "outputs": [],
   "source": [
    "def ExchangeEdges(solution, i, j):\n",
    "    result = copy.deepcopy(solution)\n",
    "    if i < j:\n",
    "        result = np.concatenate((result[:i], result[i:j+1][::-1], result[j+1:]))\n",
    "    else:\n",
    "        result = np.concatenate((result[i:][::-1], result[j+1:i], result[:j+1][::-1]))\n",
    "    return result\n",
    "\n",
    "def ExchangeEdgesDelta(graph, solution, i, j):\n",
    "    prevVertex = solution[i - 1]\n",
    "    nextVertex = solution[(j + 1) % len(solution)]\n",
    "    \n",
    "    costOut = graph.dist_matrix[solution[i]][prevVertex] + graph.dist_matrix[solution[j]][nextVertex]\n",
    "    costIn = graph.dist_matrix[solution[j]][prevVertex] + graph.dist_matrix[solution[i]][nextVertex]\n",
    "    \n",
    "    return costIn - costOut"
   ]
  },
  {
   "cell_type": "code",
   "execution_count": 6,
   "metadata": {},
   "outputs": [],
   "source": [
    "def insertNode(solution, newNode, i):\n",
    "  result = copy.deepcopy(solution)\n",
    "  result[i] = newNode\n",
    "\n",
    "  return result\n",
    "\n",
    "def insertNodeNoSwap(solution, newNode, insertID):\n",
    "  result = copy.deepcopy(solution)\n",
    "  \n",
    "  result[insertID] = result[insertID + 1]\n",
    "  result[insertID + 1] = newNode\n",
    "\n",
    "  return result"
   ]
  },
  {
   "cell_type": "code",
   "execution_count": 7,
   "metadata": {},
   "outputs": [],
   "source": [
    "def getCandidateNeighbourhood(graph, solution, candidates):\n",
    "    neighbours = []\n",
    "    for node1Index, node1 in enumerate(solution):\n",
    "        nodeCandidates = candidates[node1]\n",
    "        nextIndex = (node1Index + 1) % len(solution)\n",
    "        previousIndex = node1Index - 1\n",
    "        \n",
    "        for node2 in nodeCandidates:\n",
    "            indicesNode2 = np.where(solution == node2)[0]\n",
    "            isNode2InSolution = len(indicesNode2) > 0\n",
    "\n",
    "            if isNode2InSolution:\n",
    "                node2Index = indicesNode2[0]\n",
    "\n",
    "                if not (nextIndex >= node2Index or node1Index >= node2Index - 1):   \n",
    "                    neighbours.append((ExchangeEdgesDelta(graph, solution, nextIndex, node2Index), ExchangeEdges(solution, nextIndex, node2Index)))\n",
    "                    neighbours.append((ExchangeEdgesDelta(graph, solution, node1Index, node2Index - 1), ExchangeEdges(solution, node1Index, node2Index - 1)))\n",
    "            else:\n",
    "                neighbours.append((ExchangeVerticesDelta(graph, solution, node2, nextIndex), insertNode(solution, node2, nextIndex)))\n",
    "                neighbours.append((exchangeVerticesDeltaNoSwap(graph, solution, node2, previousIndex), insertNodeNoSwap(solution, node2, previousIndex)))\n",
    "    \n",
    "    return neighbours"
   ]
  },
  {
   "cell_type": "code",
   "execution_count": 8,
   "metadata": {},
   "outputs": [],
   "source": [
    "def SteepestLocalSearch(graph, initial_solution, candidates):\n",
    "    current_solution = initial_solution\n",
    "    neighbourhood = getCandidateNeighbourhood(graph, current_solution, candidates)\n",
    "    bestDelta = 0\n",
    "    while(len(neighbourhood)):\n",
    "        deltas = np.array([delta for delta, _ in neighbourhood])\n",
    "        best_index = np.argmin(deltas)\n",
    "        bestDelta, current_solution = neighbourhood[best_index]\n",
    "\n",
    "        if bestDelta >= 0:\n",
    "            break\n",
    "\n",
    "        neighbourhood = getCandidateNeighbourhood(graph, current_solution, candidates)\n",
    "    return graph.cycle_cost(current_solution), current_solution"
   ]
  },
  {
   "cell_type": "code",
   "execution_count": 9,
   "metadata": {},
   "outputs": [],
   "source": [
    "random_solutions = [random_solution() for i in range(200)]\n",
    "previous_solutions_D = np.load('Data/WeightedRegretResults/d_weighted_regret_all.npy')\n",
    "previous_solutions_C = np.load('Data/WeightedRegretResults/c_weighted_regret_all.npy')\n",
    "previous_solutions_B = np.load('Data/WeightedRegretResults/b_weighted_regret_all.npy')\n",
    "previous_solutions_A = np.load('Data/WeightedRegretResults/a_weighted_regret_all.npy')"
   ]
  },
  {
   "cell_type": "code",
   "execution_count": 10,
   "metadata": {},
   "outputs": [],
   "source": [
    "def SteepestExperiment(graph, init_solutions):\n",
    "    steep_random_edge = []\n",
    "    cycles = []\n",
    "    startingCandidates = getCandidates(graph)\n",
    "    for i in tqdm(range(200)):\n",
    "        cost, cycle = SteepestLocalSearch(graph, init_solutions[i], startingCandidates)\n",
    "        steep_random_edge.append(cost)\n",
    "        cycles.append(cycle)\n",
    "    return np.array(steep_random_edge), np.array(cycles)"
   ]
  },
  {
   "cell_type": "code",
   "execution_count": 11,
   "metadata": {},
   "outputs": [],
   "source": [
    "def getCandidates(graph):\n",
    "  return graph.dist_matrix.argsort(-1)[:,:10]"
   ]
  },
  {
   "cell_type": "code",
   "execution_count": 12,
   "metadata": {},
   "outputs": [],
   "source": [
    "def printResults(x):\n",
    "  print(\"min: {} max: {} avg: {}\".format(np.min(x), np.max(x), np.mean(x)))"
   ]
  },
  {
   "cell_type": "code",
   "execution_count": 14,
   "metadata": {},
   "outputs": [
    {
     "name": "stderr",
     "output_type": "stream",
     "text": [
      "100%|██████████| 200/200 [01:47<00:00,  1.85it/s]"
     ]
    },
    {
     "name": "stdout",
     "output_type": "stream",
     "text": [
      "steepest random edge candidates\n",
      "min: 59974 max: 70926 avg: 64797.455\n"
     ]
    },
    {
     "name": "stderr",
     "output_type": "stream",
     "text": [
      "\n"
     ]
    }
   ],
   "source": [
    "resEdgeD = SteepestExperiment(Graph('D'), random_solutions)\n",
    "print('steepest random edge candidates')\n",
    "printResults(resEdgeD)"
   ]
  },
  {
   "cell_type": "code",
   "execution_count": 15,
   "metadata": {},
   "outputs": [
    {
     "name": "stderr",
     "output_type": "stream",
     "text": [
      "  0%|          | 0/200 [00:00<?, ?it/s]"
     ]
    },
    {
     "name": "stderr",
     "output_type": "stream",
     "text": [
      "100%|██████████| 200/200 [01:49<00:00,  1.83it/s]"
     ]
    },
    {
     "name": "stdout",
     "output_type": "stream",
     "text": [
      "steepest random edge candidates\n",
      "min: 63479 max: 74803 avg: 68842.895\n"
     ]
    },
    {
     "name": "stderr",
     "output_type": "stream",
     "text": [
      "\n"
     ]
    }
   ],
   "source": [
    "resEdgeC = SteepestExperiment(Graph('C'), random_solutions)\n",
    "print('steepest random edge candidates')\n",
    "printResults(resEdgeC)"
   ]
  }
 ],
 "metadata": {
  "kernelspec": {
   "display_name": "Python 3",
   "language": "python",
   "name": "python3"
  },
  "language_info": {
   "codemirror_mode": {
    "name": "ipython",
    "version": 3
   },
   "file_extension": ".py",
   "mimetype": "text/x-python",
   "name": "python",
   "nbconvert_exporter": "python",
   "pygments_lexer": "ipython3",
   "version": "3.9.0"
  }
 },
 "nbformat": 4,
 "nbformat_minor": 2
}
